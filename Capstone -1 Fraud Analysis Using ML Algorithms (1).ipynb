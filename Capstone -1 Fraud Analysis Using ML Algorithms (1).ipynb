{
 "cells": [
  {
   "cell_type": "markdown",
   "id": "be47edee",
   "metadata": {},
   "source": [
    "# Fraud Analysis Using ML Algorithms & customer segmentation"
   ]
  },
  {
   "cell_type": "markdown",
   "id": "f3c19500",
   "metadata": {},
   "source": [
    "## Problem Statement: \n",
    "In this capstone project, you are going to analyze customer’s purchase data set and \n",
    "build a machine learning algorithm to detect fraud purchases. \n",
    "And also you are going to perform customer segmentation"
   ]
  },
  {
   "cell_type": "markdown",
   "id": "6dd481dd",
   "metadata": {},
   "source": [
    "### Step 1 : Import the required Libraries and data into Pandas DataFrame"
   ]
  },
  {
   "cell_type": "code",
   "execution_count": 1,
   "id": "1bbd8430",
   "metadata": {},
   "outputs": [],
   "source": [
    "import pandas as pd\n",
    "import numpy as np\n",
    "\n",
    "from matplotlib import pyplot as plt\n",
    "%matplotlib inline\n",
    "import seaborn as sns\n",
    "\n",
    "from sklearn.preprocessing import MinMaxScaler, StandardScaler\n",
    "from sklearn.model_selection import train_test_split, cross_val_score, cross_validate, RandomizedSearchCV, GridSearchCV\n",
    "\n",
    "from sklearn.linear_model import LogisticRegression\n",
    "from sklearn import svm\n",
    "from sklearn.ensemble import RandomForestClassifier\n",
    "\n",
    "from sklearn.metrics import accuracy_score, precision_score, recall_score, f1_score, confusion_matrix\n",
    "from sklearn import metrics "
   ]
  },
  {
   "cell_type": "code",
   "execution_count": 2,
   "id": "e3a81b2d",
   "metadata": {},
   "outputs": [
    {
     "data": {
      "text/html": [
       "<div>\n",
       "<style scoped>\n",
       "    .dataframe tbody tr th:only-of-type {\n",
       "        vertical-align: middle;\n",
       "    }\n",
       "\n",
       "    .dataframe tbody tr th {\n",
       "        vertical-align: top;\n",
       "    }\n",
       "\n",
       "    .dataframe thead th {\n",
       "        text-align: right;\n",
       "    }\n",
       "</style>\n",
       "<table border=\"1\" class=\"dataframe\">\n",
       "  <thead>\n",
       "    <tr style=\"text-align: right;\">\n",
       "      <th></th>\n",
       "      <th>user_id</th>\n",
       "      <th>signup_time</th>\n",
       "      <th>purchase_time</th>\n",
       "      <th>purchase_value</th>\n",
       "      <th>device_id</th>\n",
       "      <th>source</th>\n",
       "      <th>browser</th>\n",
       "      <th>sex</th>\n",
       "      <th>ip_address</th>\n",
       "      <th>class</th>\n",
       "      <th>category</th>\n",
       "      <th>dob</th>\n",
       "    </tr>\n",
       "  </thead>\n",
       "  <tbody>\n",
       "    <tr>\n",
       "      <th>0</th>\n",
       "      <td>22058</td>\n",
       "      <td>2015-02-24 22:55:49</td>\n",
       "      <td>2015-04-18 02:47:11</td>\n",
       "      <td>65278</td>\n",
       "      <td>QVPSPJUOCKZAR</td>\n",
       "      <td>SEO</td>\n",
       "      <td>Chrome</td>\n",
       "      <td>M</td>\n",
       "      <td>7.327584e+08</td>\n",
       "      <td>0</td>\n",
       "      <td>home_essentials</td>\n",
       "      <td>22-2-1976</td>\n",
       "    </tr>\n",
       "    <tr>\n",
       "      <th>1</th>\n",
       "      <td>333320</td>\n",
       "      <td>2015-06-07 20:39:50</td>\n",
       "      <td>2015-06-08 01:38:54</td>\n",
       "      <td>96399</td>\n",
       "      <td>EOGFQPIZPYXFZ</td>\n",
       "      <td>Ads</td>\n",
       "      <td>Chrome</td>\n",
       "      <td>F</td>\n",
       "      <td>3.503114e+08</td>\n",
       "      <td>0</td>\n",
       "      <td>apparels</td>\n",
       "      <td>2-1-1962</td>\n",
       "    </tr>\n",
       "    <tr>\n",
       "      <th>2</th>\n",
       "      <td>1359</td>\n",
       "      <td>2015-01-01 18:52:44</td>\n",
       "      <td>2015-01-01 18:52:45</td>\n",
       "      <td>57296</td>\n",
       "      <td>YSSKYOSJHPPLJ</td>\n",
       "      <td>SEO</td>\n",
       "      <td>Opera</td>\n",
       "      <td>M</td>\n",
       "      <td>2.621474e+09</td>\n",
       "      <td>1</td>\n",
       "      <td>electronics</td>\n",
       "      <td>5-3-1962</td>\n",
       "    </tr>\n",
       "    <tr>\n",
       "      <th>3</th>\n",
       "      <td>150084</td>\n",
       "      <td>2015-04-28 21:13:25</td>\n",
       "      <td>2015-05-04 13:54:50</td>\n",
       "      <td>43650</td>\n",
       "      <td>ATGTXKYKUDUQN</td>\n",
       "      <td>SEO</td>\n",
       "      <td>Safari</td>\n",
       "      <td>M</td>\n",
       "      <td>3.840542e+09</td>\n",
       "      <td>0</td>\n",
       "      <td>health_care</td>\n",
       "      <td>3-7-1974</td>\n",
       "    </tr>\n",
       "    <tr>\n",
       "      <th>4</th>\n",
       "      <td>221365</td>\n",
       "      <td>2015-07-21 07:09:52</td>\n",
       "      <td>2015-09-09 18:40:53</td>\n",
       "      <td>45016</td>\n",
       "      <td>NAUITBZFJKHWW</td>\n",
       "      <td>Ads</td>\n",
       "      <td>Safari</td>\n",
       "      <td>M</td>\n",
       "      <td>4.155831e+08</td>\n",
       "      <td>0</td>\n",
       "      <td>home_essentials</td>\n",
       "      <td>25-8-1970</td>\n",
       "    </tr>\n",
       "  </tbody>\n",
       "</table>\n",
       "</div>"
      ],
      "text/plain": [
       "   user_id          signup_time        purchase_time  purchase_value  \\\n",
       "0    22058  2015-02-24 22:55:49  2015-04-18 02:47:11           65278   \n",
       "1   333320  2015-06-07 20:39:50  2015-06-08 01:38:54           96399   \n",
       "2     1359  2015-01-01 18:52:44  2015-01-01 18:52:45           57296   \n",
       "3   150084  2015-04-28 21:13:25  2015-05-04 13:54:50           43650   \n",
       "4   221365  2015-07-21 07:09:52  2015-09-09 18:40:53           45016   \n",
       "\n",
       "       device_id source browser sex    ip_address  class         category  \\\n",
       "0  QVPSPJUOCKZAR    SEO  Chrome   M  7.327584e+08      0  home_essentials   \n",
       "1  EOGFQPIZPYXFZ    Ads  Chrome   F  3.503114e+08      0         apparels   \n",
       "2  YSSKYOSJHPPLJ    SEO   Opera   M  2.621474e+09      1      electronics   \n",
       "3  ATGTXKYKUDUQN    SEO  Safari   M  3.840542e+09      0      health_care   \n",
       "4  NAUITBZFJKHWW    Ads  Safari   M  4.155831e+08      0  home_essentials   \n",
       "\n",
       "         dob  \n",
       "0  22-2-1976  \n",
       "1   2-1-1962  \n",
       "2   5-3-1962  \n",
       "3   3-7-1974  \n",
       "4  25-8-1970  "
      ]
     },
     "execution_count": 2,
     "metadata": {},
     "output_type": "execute_result"
    }
   ],
   "source": [
    "# pd.set_option('display.max_colwidth',None)\n",
    "pfd = pd.read_csv(\"Purchase_Fraud_data.csv\")\n",
    "pfd.head()"
   ]
  },
  {
   "cell_type": "markdown",
   "id": "d3fed1cf",
   "metadata": {},
   "source": [
    "### Step 2 : Exploratory Data Analysis"
   ]
  },
  {
   "cell_type": "code",
   "execution_count": 3,
   "id": "84549282",
   "metadata": {},
   "outputs": [
    {
     "name": "stdout",
     "output_type": "stream",
     "text": [
      "<class 'pandas.core.frame.DataFrame'>\n",
      "RangeIndex: 151112 entries, 0 to 151111\n",
      "Data columns (total 12 columns):\n",
      " #   Column          Non-Null Count   Dtype  \n",
      "---  ------          --------------   -----  \n",
      " 0   user_id         151112 non-null  int64  \n",
      " 1   signup_time     151112 non-null  object \n",
      " 2   purchase_time   151112 non-null  object \n",
      " 3   purchase_value  151112 non-null  int64  \n",
      " 4   device_id       151112 non-null  object \n",
      " 5   source          151112 non-null  object \n",
      " 6   browser         151112 non-null  object \n",
      " 7   sex             146185 non-null  object \n",
      " 8   ip_address      151112 non-null  float64\n",
      " 9   class           151112 non-null  int64  \n",
      " 10  category        151112 non-null  object \n",
      " 11  dob             146188 non-null  object \n",
      "dtypes: float64(1), int64(3), object(8)\n",
      "memory usage: 13.8+ MB\n"
     ]
    }
   ],
   "source": [
    "pfd.info()"
   ]
  },
  {
   "cell_type": "code",
   "execution_count": 4,
   "id": "0224b539",
   "metadata": {},
   "outputs": [
    {
     "data": {
      "text/plain": [
       "sex    4927\n",
       "dob    4924\n",
       "dtype: int64"
      ]
     },
     "execution_count": 4,
     "metadata": {},
     "output_type": "execute_result"
    }
   ],
   "source": [
    "pfd[['sex','dob']].isnull().sum()"
   ]
  },
  {
   "cell_type": "code",
   "execution_count": 5,
   "id": "bd089d92",
   "metadata": {},
   "outputs": [
    {
     "data": {
      "text/plain": [
       "sex    3.370387\n",
       "dob    3.368266\n",
       "dtype: float64"
      ]
     },
     "execution_count": 5,
     "metadata": {},
     "output_type": "execute_result"
    }
   ],
   "source": [
    "# Missing Values for sex and dob are 3.37% and 3.26% respectively\n",
    "(pfd[['sex', 'dob']].isnull().sum()/pfd[['sex', 'dob']].count())*100"
   ]
  },
  {
   "cell_type": "markdown",
   "id": "64f7b596",
   "metadata": {},
   "source": [
    "#### Step 2.1 : Distribution of Class (1:Fraud Transaction, 0: Regular Transaction)"
   ]
  },
  {
   "cell_type": "code",
   "execution_count": 6,
   "id": "284068fe",
   "metadata": {},
   "outputs": [
    {
     "data": {
      "text/plain": [
       "<AxesSubplot:title={'center':'Distribution of Class'}, ylabel='class'>"
      ]
     },
     "execution_count": 6,
     "metadata": {},
     "output_type": "execute_result"
    },
    {
     "data": {
      "image/png": "[encoded data removed]",
      "text/plain": [
       "<Figure size 432x288 with 1 Axes>"
      ]
     },
     "metadata": {},
     "output_type": "display_data"
    }
   ],
   "source": [
    "pfd['class'].value_counts(normalize = True).plot(kind='pie',\n",
    "                                          autopct = '%.2f',\n",
    "                                          labels = ['Regular transaction','Fraud transaction'],\n",
    "                                          title = 'Distribution of Class')"
   ]
  },
  {
   "cell_type": "markdown",
   "id": "15ec2135",
   "metadata": {},
   "source": [
    "#### Step 2.2 : Crosstabulation of 'sex' with Target variable - 'class'"
   ]
  },
  {
   "cell_type": "code",
   "execution_count": 7,
   "id": "ca46de57",
   "metadata": {},
   "outputs": [
    {
     "data": {
      "text/html": [
       "<div>\n",
       "<style scoped>\n",
       "    .dataframe tbody tr th:only-of-type {\n",
       "        vertical-align: middle;\n",
       "    }\n",
       "\n",
       "    .dataframe tbody tr th {\n",
       "        vertical-align: top;\n",
       "    }\n",
       "\n",
       "    .dataframe thead th {\n",
       "        text-align: right;\n",
       "    }\n",
       "</style>\n",
       "<table border=\"1\" class=\"dataframe\">\n",
       "  <thead>\n",
       "    <tr style=\"text-align: right;\">\n",
       "      <th>class</th>\n",
       "      <th>0</th>\n",
       "      <th>1</th>\n",
       "    </tr>\n",
       "    <tr>\n",
       "      <th>sex</th>\n",
       "      <th></th>\n",
       "      <th></th>\n",
       "    </tr>\n",
       "  </thead>\n",
       "  <tbody>\n",
       "    <tr>\n",
       "      <th>F</th>\n",
       "      <td>0.416726</td>\n",
       "      <td>0.403638</td>\n",
       "    </tr>\n",
       "    <tr>\n",
       "      <th>M</th>\n",
       "      <td>0.583274</td>\n",
       "      <td>0.596362</td>\n",
       "    </tr>\n",
       "  </tbody>\n",
       "</table>\n",
       "</div>"
      ],
      "text/plain": [
       "class         0         1\n",
       "sex                      \n",
       "F      0.416726  0.403638\n",
       "M      0.583274  0.596362"
      ]
     },
     "execution_count": 7,
     "metadata": {},
     "output_type": "execute_result"
    }
   ],
   "source": [
    "gender_group = pd.crosstab(index = pfd['sex'], columns = pfd['class'], normalize=\"columns\")\n",
    "gender_group"
   ]
  },
  {
   "cell_type": "raw",
   "id": "e974bdd0",
   "metadata": {},
   "source": [
    "✅️ ️ normalize='columns': convert to column %\n",
    "✅️ ️ normalize='index': convert to row %\n",
    "✅️ ️ normalize='all' or ️ normalize=True: convert to table %\n",
    "✅️ ️ margins=True: add totals (the type of total depends on normalize argument)"
   ]
  },
  {
   "cell_type": "code",
   "execution_count": 8,
   "id": "8e638629",
   "metadata": {
    "scrolled": true
   },
   "outputs": [
    {
     "data": {
      "text/plain": [
       "<matplotlib.legend.Legend at 0x22eadef1670>"
      ]
     },
     "execution_count": 8,
     "metadata": {},
     "output_type": "execute_result"
    },
    {
     "data": {
      "text/plain": [
       "<Figure size 1008x360 with 0 Axes>"
      ]
     },
     "metadata": {},
     "output_type": "display_data"
    },
    {
     "data": {
      "image/png": "[encoded data removed]",
      "text/plain": [
       "<Figure size 432x288 with 1 Axes>"
      ]
     },
     "metadata": {
      "needs_background": "light"
     },
     "output_type": "display_data"
    }
   ],
   "source": [
    "plt.figure(figsize=(14,5))\n",
    "gender_group.plot.bar()\n",
    "plt.ylabel(\"Count\")\n",
    "plt.legend()"
   ]
  },
  {
   "cell_type": "markdown",
   "id": "759fffe4",
   "metadata": {},
   "source": [
    "#### Step 2.3 : Crosstabulation of 'source' with Target variable - 'class'"
   ]
  },
  {
   "cell_type": "code",
   "execution_count": 9,
   "id": "78d03b6b",
   "metadata": {},
   "outputs": [
    {
     "data": {
      "text/html": [
       "<div>\n",
       "<style scoped>\n",
       "    .dataframe tbody tr th:only-of-type {\n",
       "        vertical-align: middle;\n",
       "    }\n",
       "\n",
       "    .dataframe tbody tr th {\n",
       "        vertical-align: top;\n",
       "    }\n",
       "\n",
       "    .dataframe thead th {\n",
       "        text-align: right;\n",
       "    }\n",
       "</style>\n",
       "<table border=\"1\" class=\"dataframe\">\n",
       "  <thead>\n",
       "    <tr style=\"text-align: right;\">\n",
       "      <th>class</th>\n",
       "      <th>0</th>\n",
       "      <th>1</th>\n",
       "    </tr>\n",
       "    <tr>\n",
       "      <th>source</th>\n",
       "      <th></th>\n",
       "      <th></th>\n",
       "    </tr>\n",
       "  </thead>\n",
       "  <tbody>\n",
       "    <tr>\n",
       "      <th>Ads</th>\n",
       "      <td>0.396960</td>\n",
       "      <td>0.389584</td>\n",
       "    </tr>\n",
       "    <tr>\n",
       "      <th>Direct</th>\n",
       "      <td>0.199984</td>\n",
       "      <td>0.227970</td>\n",
       "    </tr>\n",
       "    <tr>\n",
       "      <th>SEO</th>\n",
       "      <td>0.403056</td>\n",
       "      <td>0.382446</td>\n",
       "    </tr>\n",
       "  </tbody>\n",
       "</table>\n",
       "</div>"
      ],
      "text/plain": [
       "class          0         1\n",
       "source                    \n",
       "Ads     0.396960  0.389584\n",
       "Direct  0.199984  0.227970\n",
       "SEO     0.403056  0.382446"
      ]
     },
     "execution_count": 9,
     "metadata": {},
     "output_type": "execute_result"
    }
   ],
   "source": [
    "source_group = pd.crosstab(index = pfd['source'], columns = pfd['class'], normalize = 'columns')\n",
    "source_group"
   ]
  },
  {
   "cell_type": "code",
   "execution_count": 10,
   "id": "379489fd",
   "metadata": {},
   "outputs": [
    {
     "data": {
      "text/plain": [
       "<function matplotlib.pyplot.legend(*args, **kwargs)>"
      ]
     },
     "execution_count": 10,
     "metadata": {},
     "output_type": "execute_result"
    },
    {
     "data": {
      "text/plain": [
       "<Figure size 1008x360 with 0 Axes>"
      ]
     },
     "metadata": {},
     "output_type": "display_data"
    },
    {
     "data": {
      "image/png": "[encoded data removed]",
      "text/plain": [
       "<Figure size 432x288 with 1 Axes>"
      ]
     },
     "metadata": {
      "needs_background": "light"
     },
     "output_type": "display_data"
    }
   ],
   "source": [
    "plt.figure(figsize=(14,5))\n",
    "source_group.plot.bar()\n",
    "plt.ylabel('count')\n",
    "plt.legend"
   ]
  },
  {
   "cell_type": "markdown",
   "id": "fd46d644",
   "metadata": {},
   "source": [
    "#### Step 2.4 : Crosstabulation of 'browser' with Target variable - 'class'"
   ]
  },
  {
   "cell_type": "code",
   "execution_count": 11,
   "id": "76508ce1",
   "metadata": {},
   "outputs": [
    {
     "data": {
      "text/html": [
       "<div>\n",
       "<style scoped>\n",
       "    .dataframe tbody tr th:only-of-type {\n",
       "        vertical-align: middle;\n",
       "    }\n",
       "\n",
       "    .dataframe tbody tr th {\n",
       "        vertical-align: top;\n",
       "    }\n",
       "\n",
       "    .dataframe thead th {\n",
       "        text-align: right;\n",
       "    }\n",
       "</style>\n",
       "<table border=\"1\" class=\"dataframe\">\n",
       "  <thead>\n",
       "    <tr style=\"text-align: right;\">\n",
       "      <th>class</th>\n",
       "      <th>0</th>\n",
       "      <th>1</th>\n",
       "    </tr>\n",
       "    <tr>\n",
       "      <th>browser</th>\n",
       "      <th></th>\n",
       "      <th></th>\n",
       "    </tr>\n",
       "  </thead>\n",
       "  <tbody>\n",
       "    <tr>\n",
       "      <th>Chrome</th>\n",
       "      <td>0.404225</td>\n",
       "      <td>0.428874</td>\n",
       "    </tr>\n",
       "    <tr>\n",
       "      <th>FireFox</th>\n",
       "      <td>0.162586</td>\n",
       "      <td>0.165501</td>\n",
       "    </tr>\n",
       "    <tr>\n",
       "      <th>IE</th>\n",
       "      <td>0.244887</td>\n",
       "      <td>0.225214</td>\n",
       "    </tr>\n",
       "    <tr>\n",
       "      <th>Opera</th>\n",
       "      <td>0.024445</td>\n",
       "      <td>0.023179</td>\n",
       "    </tr>\n",
       "    <tr>\n",
       "      <th>Safari</th>\n",
       "      <td>0.163857</td>\n",
       "      <td>0.157233</td>\n",
       "    </tr>\n",
       "  </tbody>\n",
       "</table>\n",
       "</div>"
      ],
      "text/plain": [
       "class           0         1\n",
       "browser                    \n",
       "Chrome   0.404225  0.428874\n",
       "FireFox  0.162586  0.165501\n",
       "IE       0.244887  0.225214\n",
       "Opera    0.024445  0.023179\n",
       "Safari   0.163857  0.157233"
      ]
     },
     "execution_count": 11,
     "metadata": {},
     "output_type": "execute_result"
    }
   ],
   "source": [
    "browser_group = pd.crosstab(index = pfd['browser'], columns = pfd['class'], normalize = 'columns')\n",
    "browser_group"
   ]
  },
  {
   "cell_type": "code",
   "execution_count": 12,
   "id": "490ab628",
   "metadata": {},
   "outputs": [
    {
     "data": {
      "text/plain": [
       "<function matplotlib.pyplot.legend(*args, **kwargs)>"
      ]
     },
     "execution_count": 12,
     "metadata": {},
     "output_type": "execute_result"
    },
    {
     "data": {
      "text/plain": [
       "<Figure size 1008x360 with 0 Axes>"
      ]
     },
     "metadata": {},
     "output_type": "display_data"
    },
    {
     "data": {
      "image/png": "[encoded data removed]",
      "text/plain": [
       "<Figure size 432x288 with 1 Axes>"
      ]
     },
     "metadata": {
      "needs_background": "light"
     },
     "output_type": "display_data"
    }
   ],
   "source": [
    "plt.figure(figsize = (14,5))\n",
    "browser_group.plot.bar()\n",
    "plt.ylabel('Counts')\n",
    "plt.legend"
   ]
  },
  {
   "cell_type": "markdown",
   "id": "b47240c9",
   "metadata": {},
   "source": [
    "#### Step 2.6 : Crosstabulation of \"sex, source and browser\" with \"Class\""
   ]
  },
  {
   "cell_type": "code",
   "execution_count": 13,
   "id": "20a162dd",
   "metadata": {},
   "outputs": [
    {
     "data": {
      "text/plain": [
       "<AxesSubplot:xlabel='sex,source,browser'>"
      ]
     },
     "execution_count": 13,
     "metadata": {},
     "output_type": "execute_result"
    },
    {
     "data": {
      "image/png": "[encoded data removed]",
      "text/plain": [
       "<Figure size 1440x360 with 1 Axes>"
      ]
     },
     "metadata": {
      "needs_background": "light"
     },
     "output_type": "display_data"
    }
   ],
   "source": [
    "gender_source_browser_group = pd.crosstab(index = [pfd[\"sex\"], pfd[\"source\"], pfd[\"browser\"]], columns = pfd[\"class\"])\n",
    "gender_source_browser_group.plot(kind='bar', stacked=True, color=['pink','red'], grid=False, figsize=(20, 5))"
   ]
  },
  {
   "cell_type": "markdown",
   "id": "d5f2f819",
   "metadata": {},
   "source": [
    "#### Step 2.7 : Descriptive Statistics continuous variable \"Purchase Value\""
   ]
  },
  {
   "cell_type": "code",
   "execution_count": 14,
   "id": "07cd6245",
   "metadata": {},
   "outputs": [
    {
     "data": {
      "text/plain": [
       "count    151112.000000\n",
       "mean      50521.469003\n",
       "std       28533.667117\n",
       "min        1016.000000\n",
       "25%       25919.000000\n",
       "50%       50484.000000\n",
       "75%       75296.250000\n",
       "max      100092.000000\n",
       "Name: purchase_value, dtype: float64"
      ]
     },
     "execution_count": 14,
     "metadata": {},
     "output_type": "execute_result"
    }
   ],
   "source": [
    "pfd['purchase_value'].describe()"
   ]
  },
  {
   "cell_type": "markdown",
   "id": "98f3121f",
   "metadata": {},
   "source": [
    "#### Step 2.8 : Crosstabulation of Gender and Class with Descriptive Statistics of \"Purchase Value\""
   ]
  },
  {
   "cell_type": "code",
   "execution_count": 15,
   "id": "c61a0f0b",
   "metadata": {},
   "outputs": [
    {
     "data": {
      "text/html": [
       "<div>\n",
       "<style scoped>\n",
       "    .dataframe tbody tr th:only-of-type {\n",
       "        vertical-align: middle;\n",
       "    }\n",
       "\n",
       "    .dataframe tbody tr th {\n",
       "        vertical-align: top;\n",
       "    }\n",
       "\n",
       "    .dataframe thead tr th {\n",
       "        text-align: left;\n",
       "    }\n",
       "\n",
       "    .dataframe thead tr:last-of-type th {\n",
       "        text-align: right;\n",
       "    }\n",
       "</style>\n",
       "<table border=\"1\" class=\"dataframe\">\n",
       "  <thead>\n",
       "    <tr>\n",
       "      <th></th>\n",
       "      <th></th>\n",
       "      <th>count</th>\n",
       "      <th>min</th>\n",
       "      <th>max</th>\n",
       "      <th>mean</th>\n",
       "      <th>std</th>\n",
       "    </tr>\n",
       "    <tr>\n",
       "      <th></th>\n",
       "      <th></th>\n",
       "      <th>purchase_value</th>\n",
       "      <th>purchase_value</th>\n",
       "      <th>purchase_value</th>\n",
       "      <th>purchase_value</th>\n",
       "      <th>purchase_value</th>\n",
       "    </tr>\n",
       "    <tr>\n",
       "      <th>category</th>\n",
       "      <th>class</th>\n",
       "      <th></th>\n",
       "      <th></th>\n",
       "      <th></th>\n",
       "      <th></th>\n",
       "      <th></th>\n",
       "    </tr>\n",
       "  </thead>\n",
       "  <tbody>\n",
       "    <tr>\n",
       "      <th rowspan=\"2\" valign=\"top\">apparels</th>\n",
       "      <th>0</th>\n",
       "      <td>27390</td>\n",
       "      <td>1035</td>\n",
       "      <td>100056</td>\n",
       "      <td>50298.911829</td>\n",
       "      <td>28439.049928</td>\n",
       "    </tr>\n",
       "    <tr>\n",
       "      <th>1</th>\n",
       "      <td>2380</td>\n",
       "      <td>1068</td>\n",
       "      <td>100022</td>\n",
       "      <td>50989.498739</td>\n",
       "      <td>28538.931647</td>\n",
       "    </tr>\n",
       "    <tr>\n",
       "      <th rowspan=\"2\" valign=\"top\">cosmetics</th>\n",
       "      <th>0</th>\n",
       "      <td>27539</td>\n",
       "      <td>1035</td>\n",
       "      <td>100054</td>\n",
       "      <td>50768.458913</td>\n",
       "      <td>28566.244287</td>\n",
       "    </tr>\n",
       "    <tr>\n",
       "      <th>1</th>\n",
       "      <td>2401</td>\n",
       "      <td>1072</td>\n",
       "      <td>100027</td>\n",
       "      <td>50040.231154</td>\n",
       "      <td>29041.660123</td>\n",
       "    </tr>\n",
       "    <tr>\n",
       "      <th rowspan=\"2\" valign=\"top\">electronics</th>\n",
       "      <th>0</th>\n",
       "      <td>27451</td>\n",
       "      <td>1044</td>\n",
       "      <td>100050</td>\n",
       "      <td>50479.898328</td>\n",
       "      <td>28441.308871</td>\n",
       "    </tr>\n",
       "    <tr>\n",
       "      <th>1</th>\n",
       "      <td>4605</td>\n",
       "      <td>1119</td>\n",
       "      <td>100037</td>\n",
       "      <td>51242.677959</td>\n",
       "      <td>28505.981789</td>\n",
       "    </tr>\n",
       "    <tr>\n",
       "      <th rowspan=\"2\" valign=\"top\">health_care</th>\n",
       "      <th>0</th>\n",
       "      <td>27253</td>\n",
       "      <td>1032</td>\n",
       "      <td>100057</td>\n",
       "      <td>50587.314241</td>\n",
       "      <td>28610.911626</td>\n",
       "    </tr>\n",
       "    <tr>\n",
       "      <th>1</th>\n",
       "      <td>2436</td>\n",
       "      <td>1053</td>\n",
       "      <td>100041</td>\n",
       "      <td>50522.050903</td>\n",
       "      <td>28463.383830</td>\n",
       "    </tr>\n",
       "    <tr>\n",
       "      <th rowspan=\"2\" valign=\"top\">home_essentials</th>\n",
       "      <th>0</th>\n",
       "      <td>27328</td>\n",
       "      <td>1016</td>\n",
       "      <td>100092</td>\n",
       "      <td>50307.411922</td>\n",
       "      <td>28584.845460</td>\n",
       "    </tr>\n",
       "    <tr>\n",
       "      <th>1</th>\n",
       "      <td>2329</td>\n",
       "      <td>1076</td>\n",
       "      <td>99952</td>\n",
       "      <td>51040.735079</td>\n",
       "      <td>28424.876924</td>\n",
       "    </tr>\n",
       "  </tbody>\n",
       "</table>\n",
       "</div>"
      ],
      "text/plain": [
       "                               count            min            max  \\\n",
       "                      purchase_value purchase_value purchase_value   \n",
       "category        class                                                \n",
       "apparels        0              27390           1035         100056   \n",
       "                1               2380           1068         100022   \n",
       "cosmetics       0              27539           1035         100054   \n",
       "                1               2401           1072         100027   \n",
       "electronics     0              27451           1044         100050   \n",
       "                1               4605           1119         100037   \n",
       "health_care     0              27253           1032         100057   \n",
       "                1               2436           1053         100041   \n",
       "home_essentials 0              27328           1016         100092   \n",
       "                1               2329           1076          99952   \n",
       "\n",
       "                                mean            std  \n",
       "                      purchase_value purchase_value  \n",
       "category        class                                \n",
       "apparels        0       50298.911829   28439.049928  \n",
       "                1       50989.498739   28538.931647  \n",
       "cosmetics       0       50768.458913   28566.244287  \n",
       "                1       50040.231154   29041.660123  \n",
       "electronics     0       50479.898328   28441.308871  \n",
       "                1       51242.677959   28505.981789  \n",
       "health_care     0       50587.314241   28610.911626  \n",
       "                1       50522.050903   28463.383830  \n",
       "home_essentials 0       50307.411922   28584.845460  \n",
       "                1       51040.735079   28424.876924  "
      ]
     },
     "execution_count": 15,
     "metadata": {},
     "output_type": "execute_result"
    }
   ],
   "source": [
    "table = pd.pivot_table(pfd, index =['category','class'], values = ['purchase_value'], aggfunc = ['count','min','max','mean','std'])\n",
    "table"
   ]
  },
  {
   "cell_type": "code",
   "execution_count": 16,
   "id": "3152d15c",
   "metadata": {},
   "outputs": [
    {
     "data": {
      "text/html": [
       "<div>\n",
       "<style scoped>\n",
       "    .dataframe tbody tr th:only-of-type {\n",
       "        vertical-align: middle;\n",
       "    }\n",
       "\n",
       "    .dataframe tbody tr th {\n",
       "        vertical-align: top;\n",
       "    }\n",
       "\n",
       "    .dataframe thead tr th {\n",
       "        text-align: left;\n",
       "    }\n",
       "\n",
       "    .dataframe thead tr:last-of-type th {\n",
       "        text-align: right;\n",
       "    }\n",
       "</style>\n",
       "<table border=\"1\" class=\"dataframe\">\n",
       "  <thead>\n",
       "    <tr>\n",
       "      <th></th>\n",
       "      <th>count</th>\n",
       "      <th>min</th>\n",
       "      <th>max</th>\n",
       "      <th>mean</th>\n",
       "      <th>std</th>\n",
       "    </tr>\n",
       "    <tr>\n",
       "      <th></th>\n",
       "      <th>purchase_value</th>\n",
       "      <th>purchase_value</th>\n",
       "      <th>purchase_value</th>\n",
       "      <th>purchase_value</th>\n",
       "      <th>purchase_value</th>\n",
       "    </tr>\n",
       "    <tr>\n",
       "      <th>class</th>\n",
       "      <th></th>\n",
       "      <th></th>\n",
       "      <th></th>\n",
       "      <th></th>\n",
       "      <th></th>\n",
       "    </tr>\n",
       "  </thead>\n",
       "  <tbody>\n",
       "    <tr>\n",
       "      <th>0</th>\n",
       "      <td>136961</td>\n",
       "      <td>1016</td>\n",
       "      <td>100092</td>\n",
       "      <td>50488.682924</td>\n",
       "      <td>28528.595464</td>\n",
       "    </tr>\n",
       "    <tr>\n",
       "      <th>1</th>\n",
       "      <td>14151</td>\n",
       "      <td>1053</td>\n",
       "      <td>100041</td>\n",
       "      <td>50838.790333</td>\n",
       "      <td>28581.772862</td>\n",
       "    </tr>\n",
       "  </tbody>\n",
       "</table>\n",
       "</div>"
      ],
      "text/plain": [
       "               count            min            max           mean  \\\n",
       "      purchase_value purchase_value purchase_value purchase_value   \n",
       "class                                                               \n",
       "0             136961           1016         100092   50488.682924   \n",
       "1              14151           1053         100041   50838.790333   \n",
       "\n",
       "                 std  \n",
       "      purchase_value  \n",
       "class                 \n",
       "0       28528.595464  \n",
       "1       28581.772862  "
      ]
     },
     "execution_count": 16,
     "metadata": {},
     "output_type": "execute_result"
    }
   ],
   "source": [
    "table = pd.pivot_table(pfd, index =['class'], values = ['purchase_value'], aggfunc = ['count','min','max','mean','std'])\n",
    "table"
   ]
  },
  {
   "cell_type": "code",
   "execution_count": 17,
   "id": "82fc40fb",
   "metadata": {},
   "outputs": [
    {
     "data": {
      "text/plain": [
       "<AxesSubplot:ylabel='Density'>"
      ]
     },
     "execution_count": 17,
     "metadata": {},
     "output_type": "execute_result"
    },
    {
     "data": {
      "image/png": "[encoded data removed]",
      "text/plain": [
       "<Figure size 432x288 with 1 Axes>"
      ]
     },
     "metadata": {
      "needs_background": "light"
     },
     "output_type": "display_data"
    }
   ],
   "source": [
    "pfd['purchase_value'].plot.kde()"
   ]
  },
  {
   "cell_type": "markdown",
   "id": "18e9e8d2",
   "metadata": {},
   "source": [
    "### Step 3 : Data Preprocessing and Feature Engineering"
   ]
  },
  {
   "cell_type": "raw",
   "id": "8ab09caa",
   "metadata": {},
   "source": [
    "#3.1 Data Preprocessing:\n",
    "a) Transformation of Data Types ( signup_time, purchase_time and dob)\n",
    "b) Missing Value Treatment (Drop OR Imputation of missing values for 'sex' & 'dob')\n",
    "c) Outlier Detection and Treatment ('purchase_value')\n",
    "d) Imbalanced data :\n",
    "                    (i) For an imbalanced class dataset F1 score is a more appropriate metric\n",
    "                    (ii) Oversampling and Undersampling\n",
    "                    (iii) Synthetic Minority Oversampling Technique (SMOTE) and others\n",
    "\n",
    "#3.2 Feature Engineering:\n",
    "a) DatePart and TimePart extraction from signup_time\n",
    "b) DatePart and TimePart extraction from purchase_time\n",
    "c) Difference between purchase_date and singup_date\n",
    "d) Difference between purchase_time and singup_time\n",
    "e) Age from DOB\n",
    "f) IP Address Conversion (Extrat some significance as per the target variable)\n",
    "g) One-Hot-Encoding for Discreate Variables (Nominal/Ordinal)"
   ]
  },
  {
   "cell_type": "markdown",
   "id": "900644f6",
   "metadata": {},
   "source": [
    "#### Step 3.1 Data Preprocessing"
   ]
  },
  {
   "cell_type": "markdown",
   "id": "b9cea367",
   "metadata": {},
   "source": [
    "##### 3.1.a : Transformation of Data Types ( signup_time, purchase_time and dob)"
   ]
  },
  {
   "cell_type": "code",
   "execution_count": 18,
   "id": "271d53d0",
   "metadata": {},
   "outputs": [
    {
     "data": {
      "text/plain": [
       "signup_time      datetime64[ns]\n",
       "purchase_time    datetime64[ns]\n",
       "dob              datetime64[ns]\n",
       "dtype: object"
      ]
     },
     "execution_count": 18,
     "metadata": {},
     "output_type": "execute_result"
    }
   ],
   "source": [
    "pfd['signup_time'] = pd.to_datetime(pfd['signup_time'])\n",
    "pfd['purchase_time'] = pd.to_datetime(pfd['purchase_time'])\n",
    "pfd['dob'] = pd.to_datetime(pfd['dob'] )\n",
    "pfd[['signup_time', 'purchase_time', 'dob']].dtypes"
   ]
  },
  {
   "cell_type": "code",
   "execution_count": 19,
   "id": "f9b6b11b",
   "metadata": {},
   "outputs": [
    {
     "data": {
      "text/html": [
       "<div>\n",
       "<style scoped>\n",
       "    .dataframe tbody tr th:only-of-type {\n",
       "        vertical-align: middle;\n",
       "    }\n",
       "\n",
       "    .dataframe tbody tr th {\n",
       "        vertical-align: top;\n",
       "    }\n",
       "\n",
       "    .dataframe thead th {\n",
       "        text-align: right;\n",
       "    }\n",
       "</style>\n",
       "<table border=\"1\" class=\"dataframe\">\n",
       "  <thead>\n",
       "    <tr style=\"text-align: right;\">\n",
       "      <th></th>\n",
       "      <th>user_id</th>\n",
       "      <th>signup_time</th>\n",
       "      <th>purchase_time</th>\n",
       "      <th>purchase_value</th>\n",
       "      <th>device_id</th>\n",
       "      <th>source</th>\n",
       "      <th>browser</th>\n",
       "      <th>sex</th>\n",
       "      <th>ip_address</th>\n",
       "      <th>class</th>\n",
       "      <th>category</th>\n",
       "      <th>dob</th>\n",
       "    </tr>\n",
       "  </thead>\n",
       "  <tbody>\n",
       "    <tr>\n",
       "      <th>0</th>\n",
       "      <td>22058</td>\n",
       "      <td>2015-02-24 22:55:49</td>\n",
       "      <td>2015-04-18 02:47:11</td>\n",
       "      <td>65278</td>\n",
       "      <td>QVPSPJUOCKZAR</td>\n",
       "      <td>SEO</td>\n",
       "      <td>Chrome</td>\n",
       "      <td>M</td>\n",
       "      <td>7.327584e+08</td>\n",
       "      <td>0</td>\n",
       "      <td>home_essentials</td>\n",
       "      <td>1976-02-22</td>\n",
       "    </tr>\n",
       "    <tr>\n",
       "      <th>1</th>\n",
       "      <td>333320</td>\n",
       "      <td>2015-06-07 20:39:50</td>\n",
       "      <td>2015-06-08 01:38:54</td>\n",
       "      <td>96399</td>\n",
       "      <td>EOGFQPIZPYXFZ</td>\n",
       "      <td>Ads</td>\n",
       "      <td>Chrome</td>\n",
       "      <td>F</td>\n",
       "      <td>3.503114e+08</td>\n",
       "      <td>0</td>\n",
       "      <td>apparels</td>\n",
       "      <td>1962-02-01</td>\n",
       "    </tr>\n",
       "  </tbody>\n",
       "</table>\n",
       "</div>"
      ],
      "text/plain": [
       "   user_id         signup_time       purchase_time  purchase_value  \\\n",
       "0    22058 2015-02-24 22:55:49 2015-04-18 02:47:11           65278   \n",
       "1   333320 2015-06-07 20:39:50 2015-06-08 01:38:54           96399   \n",
       "\n",
       "       device_id source browser sex    ip_address  class         category  \\\n",
       "0  QVPSPJUOCKZAR    SEO  Chrome   M  7.327584e+08      0  home_essentials   \n",
       "1  EOGFQPIZPYXFZ    Ads  Chrome   F  3.503114e+08      0         apparels   \n",
       "\n",
       "         dob  \n",
       "0 1976-02-22  \n",
       "1 1962-02-01  "
      ]
     },
     "execution_count": 19,
     "metadata": {},
     "output_type": "execute_result"
    }
   ],
   "source": [
    "pfd.head(2)"
   ]
  },
  {
   "cell_type": "markdown",
   "id": "da34ffb7",
   "metadata": {},
   "source": [
    "##### 3.1.b Missing Value Treatment (Drop OR Imputation of missing values for 'sex' & 'dob')"
   ]
  },
  {
   "cell_type": "code",
   "execution_count": 20,
   "id": "9d623893",
   "metadata": {},
   "outputs": [
    {
     "name": "stdout",
     "output_type": "stream",
     "text": [
      "<class 'pandas.core.frame.DataFrame'>\n",
      "Int64Index: 141404 entries, 0 to 151111\n",
      "Data columns (total 12 columns):\n",
      " #   Column          Non-Null Count   Dtype         \n",
      "---  ------          --------------   -----         \n",
      " 0   user_id         141404 non-null  int64         \n",
      " 1   signup_time     141404 non-null  datetime64[ns]\n",
      " 2   purchase_time   141404 non-null  datetime64[ns]\n",
      " 3   purchase_value  141404 non-null  int64         \n",
      " 4   device_id       141404 non-null  object        \n",
      " 5   source          141404 non-null  object        \n",
      " 6   browser         141404 non-null  object        \n",
      " 7   sex             141404 non-null  object        \n",
      " 8   ip_address      141404 non-null  float64       \n",
      " 9   class           141404 non-null  int64         \n",
      " 10  category        141404 non-null  object        \n",
      " 11  dob             141404 non-null  datetime64[ns]\n",
      "dtypes: datetime64[ns](3), float64(1), int64(3), object(5)\n",
      "memory usage: 14.0+ MB\n"
     ]
    }
   ],
   "source": [
    "# Deleting the row with missing data\n",
    "df = pfd.dropna(axis=0)\n",
    "df.info()"
   ]
  },
  {
   "cell_type": "markdown",
   "id": "c9821ceb",
   "metadata": {},
   "source": [
    "Here, by deleting the missing-value-data will reduce the sample size by 6.4%"
   ]
  },
  {
   "cell_type": "markdown",
   "id": "d957351e",
   "metadata": {},
   "source": [
    "##### 3.1 c) Outlier Detection and Treatment ('purchase_value')"
   ]
  },
  {
   "cell_type": "code",
   "execution_count": 21,
   "id": "cad6ec71",
   "metadata": {},
   "outputs": [
    {
     "data": {
      "text/plain": [
       "<AxesSubplot:>"
      ]
     },
     "execution_count": 21,
     "metadata": {},
     "output_type": "execute_result"
    },
    {
     "data": {
      "image/png": "[encoded data removed]",
      "text/plain": [
       "<Figure size 360x360 with 1 Axes>"
      ]
     },
     "metadata": {
      "needs_background": "light"
     },
     "output_type": "display_data"
    }
   ],
   "source": [
    "plt.figure(figsize=(5,5))\n",
    "sns.boxplot(data=df,y=df.purchase_value.values)"
   ]
  },
  {
   "cell_type": "raw",
   "id": "80078739",
   "metadata": {},
   "source": [
    "Note: No need for outlier treatment and also purchase_value is a equally distributed across all quantiles"
   ]
  },
  {
   "cell_type": "markdown",
   "id": "53a05cfe",
   "metadata": {},
   "source": [
    "##### 3.1.d Imbalanced data : \n",
    "For an imbalanced class dataset F1 score is a more appropriate metric"
   ]
  },
  {
   "cell_type": "markdown",
   "id": "bef25ad4",
   "metadata": {},
   "source": [
    "#### 3.2 Feature Engineering:"
   ]
  },
  {
   "cell_type": "markdown",
   "id": "00da7e99",
   "metadata": {},
   "source": [
    "##### 3.2.a DatePart and TimePart extraction from signup_time"
   ]
  },
  {
   "cell_type": "code",
   "execution_count": 22,
   "id": "85d258f5",
   "metadata": {},
   "outputs": [],
   "source": [
    "import warnings\n",
    "warnings.filterwarnings('ignore')"
   ]
  },
  {
   "cell_type": "code",
   "execution_count": 23,
   "id": "dc388327",
   "metadata": {},
   "outputs": [
    {
     "data": {
      "text/html": [
       "<div>\n",
       "<style scoped>\n",
       "    .dataframe tbody tr th:only-of-type {\n",
       "        vertical-align: middle;\n",
       "    }\n",
       "\n",
       "    .dataframe tbody tr th {\n",
       "        vertical-align: top;\n",
       "    }\n",
       "\n",
       "    .dataframe thead th {\n",
       "        text-align: right;\n",
       "    }\n",
       "</style>\n",
       "<table border=\"1\" class=\"dataframe\">\n",
       "  <thead>\n",
       "    <tr style=\"text-align: right;\">\n",
       "      <th></th>\n",
       "      <th>signup_time</th>\n",
       "      <th>signup_datepart</th>\n",
       "      <th>signup_timepart</th>\n",
       "    </tr>\n",
       "  </thead>\n",
       "  <tbody>\n",
       "    <tr>\n",
       "      <th>0</th>\n",
       "      <td>2015-02-24 22:55:49</td>\n",
       "      <td>2015-02-24</td>\n",
       "      <td>22:55:49</td>\n",
       "    </tr>\n",
       "    <tr>\n",
       "      <th>1</th>\n",
       "      <td>2015-06-07 20:39:50</td>\n",
       "      <td>2015-06-07</td>\n",
       "      <td>20:39:50</td>\n",
       "    </tr>\n",
       "    <tr>\n",
       "      <th>2</th>\n",
       "      <td>2015-01-01 18:52:44</td>\n",
       "      <td>2015-01-01</td>\n",
       "      <td>18:52:44</td>\n",
       "    </tr>\n",
       "    <tr>\n",
       "      <th>3</th>\n",
       "      <td>2015-04-28 21:13:25</td>\n",
       "      <td>2015-04-28</td>\n",
       "      <td>21:13:25</td>\n",
       "    </tr>\n",
       "    <tr>\n",
       "      <th>4</th>\n",
       "      <td>2015-07-21 07:09:52</td>\n",
       "      <td>2015-07-21</td>\n",
       "      <td>07:09:52</td>\n",
       "    </tr>\n",
       "  </tbody>\n",
       "</table>\n",
       "</div>"
      ],
      "text/plain": [
       "          signup_time signup_datepart signup_timepart\n",
       "0 2015-02-24 22:55:49      2015-02-24        22:55:49\n",
       "1 2015-06-07 20:39:50      2015-06-07        20:39:50\n",
       "2 2015-01-01 18:52:44      2015-01-01        18:52:44\n",
       "3 2015-04-28 21:13:25      2015-04-28        21:13:25\n",
       "4 2015-07-21 07:09:52      2015-07-21        07:09:52"
      ]
     },
     "execution_count": 23,
     "metadata": {},
     "output_type": "execute_result"
    }
   ],
   "source": [
    "df['signup_datepart'] = df['signup_time'].dt.date\n",
    "df['signup_timepart'] = df['signup_time'].dt.time\n",
    "df[['signup_time', 'signup_datepart', 'signup_timepart']] .head()"
   ]
  },
  {
   "cell_type": "markdown",
   "id": "d9a81982",
   "metadata": {},
   "source": [
    "##### 3.2.b DatePart and TimePart extraction from purchase_time"
   ]
  },
  {
   "cell_type": "code",
   "execution_count": 24,
   "id": "2b968ffa",
   "metadata": {},
   "outputs": [
    {
     "data": {
      "text/html": [
       "<div>\n",
       "<style scoped>\n",
       "    .dataframe tbody tr th:only-of-type {\n",
       "        vertical-align: middle;\n",
       "    }\n",
       "\n",
       "    .dataframe tbody tr th {\n",
       "        vertical-align: top;\n",
       "    }\n",
       "\n",
       "    .dataframe thead th {\n",
       "        text-align: right;\n",
       "    }\n",
       "</style>\n",
       "<table border=\"1\" class=\"dataframe\">\n",
       "  <thead>\n",
       "    <tr style=\"text-align: right;\">\n",
       "      <th></th>\n",
       "      <th>purchase_time</th>\n",
       "      <th>purchase_datepart</th>\n",
       "      <th>purchase_timepart</th>\n",
       "    </tr>\n",
       "  </thead>\n",
       "  <tbody>\n",
       "    <tr>\n",
       "      <th>0</th>\n",
       "      <td>2015-04-18 02:47:11</td>\n",
       "      <td>2015-04-18</td>\n",
       "      <td>02:47:11</td>\n",
       "    </tr>\n",
       "    <tr>\n",
       "      <th>1</th>\n",
       "      <td>2015-06-08 01:38:54</td>\n",
       "      <td>2015-06-08</td>\n",
       "      <td>01:38:54</td>\n",
       "    </tr>\n",
       "    <tr>\n",
       "      <th>2</th>\n",
       "      <td>2015-01-01 18:52:45</td>\n",
       "      <td>2015-01-01</td>\n",
       "      <td>18:52:45</td>\n",
       "    </tr>\n",
       "    <tr>\n",
       "      <th>3</th>\n",
       "      <td>2015-05-04 13:54:50</td>\n",
       "      <td>2015-05-04</td>\n",
       "      <td>13:54:50</td>\n",
       "    </tr>\n",
       "    <tr>\n",
       "      <th>4</th>\n",
       "      <td>2015-09-09 18:40:53</td>\n",
       "      <td>2015-09-09</td>\n",
       "      <td>18:40:53</td>\n",
       "    </tr>\n",
       "  </tbody>\n",
       "</table>\n",
       "</div>"
      ],
      "text/plain": [
       "        purchase_time purchase_datepart purchase_timepart\n",
       "0 2015-04-18 02:47:11        2015-04-18          02:47:11\n",
       "1 2015-06-08 01:38:54        2015-06-08          01:38:54\n",
       "2 2015-01-01 18:52:45        2015-01-01          18:52:45\n",
       "3 2015-05-04 13:54:50        2015-05-04          13:54:50\n",
       "4 2015-09-09 18:40:53        2015-09-09          18:40:53"
      ]
     },
     "execution_count": 24,
     "metadata": {},
     "output_type": "execute_result"
    }
   ],
   "source": [
    "df['purchase_datepart'] = df['purchase_time'].dt.date\n",
    "df['purchase_timepart'] = df['purchase_time'].dt.time\n",
    "df[['purchase_time', 'purchase_datepart', 'purchase_timepart']] .head()"
   ]
  },
  {
   "cell_type": "markdown",
   "id": "af355194",
   "metadata": {},
   "source": [
    "##### 3.2.c Difference between purchase_date and singup_date "
   ]
  },
  {
   "cell_type": "code",
   "execution_count": 25,
   "id": "67ae3d9d",
   "metadata": {},
   "outputs": [
    {
     "data": {
      "text/html": [
       "<div>\n",
       "<style scoped>\n",
       "    .dataframe tbody tr th:only-of-type {\n",
       "        vertical-align: middle;\n",
       "    }\n",
       "\n",
       "    .dataframe tbody tr th {\n",
       "        vertical-align: top;\n",
       "    }\n",
       "\n",
       "    .dataframe thead th {\n",
       "        text-align: right;\n",
       "    }\n",
       "</style>\n",
       "<table border=\"1\" class=\"dataframe\">\n",
       "  <thead>\n",
       "    <tr style=\"text-align: right;\">\n",
       "      <th></th>\n",
       "      <th>signup_datepart</th>\n",
       "      <th>purchase_datepart</th>\n",
       "      <th>singup_purchase_date_difference</th>\n",
       "      <th>class</th>\n",
       "    </tr>\n",
       "  </thead>\n",
       "  <tbody>\n",
       "    <tr>\n",
       "      <th>0</th>\n",
       "      <td>2015-02-24</td>\n",
       "      <td>2015-04-18</td>\n",
       "      <td>53</td>\n",
       "      <td>0</td>\n",
       "    </tr>\n",
       "    <tr>\n",
       "      <th>1</th>\n",
       "      <td>2015-06-07</td>\n",
       "      <td>2015-06-08</td>\n",
       "      <td>1</td>\n",
       "      <td>0</td>\n",
       "    </tr>\n",
       "    <tr>\n",
       "      <th>2</th>\n",
       "      <td>2015-01-01</td>\n",
       "      <td>2015-01-01</td>\n",
       "      <td>0</td>\n",
       "      <td>1</td>\n",
       "    </tr>\n",
       "    <tr>\n",
       "      <th>3</th>\n",
       "      <td>2015-04-28</td>\n",
       "      <td>2015-05-04</td>\n",
       "      <td>6</td>\n",
       "      <td>0</td>\n",
       "    </tr>\n",
       "    <tr>\n",
       "      <th>4</th>\n",
       "      <td>2015-07-21</td>\n",
       "      <td>2015-09-09</td>\n",
       "      <td>50</td>\n",
       "      <td>0</td>\n",
       "    </tr>\n",
       "  </tbody>\n",
       "</table>\n",
       "</div>"
      ],
      "text/plain": [
       "  signup_datepart purchase_datepart singup_purchase_date_difference  class\n",
       "0      2015-02-24        2015-04-18                              53      0\n",
       "1      2015-06-07        2015-06-08                               1      0\n",
       "2      2015-01-01        2015-01-01                               0      1\n",
       "3      2015-04-28        2015-05-04                               6      0\n",
       "4      2015-07-21        2015-09-09                              50      0"
      ]
     },
     "execution_count": 25,
     "metadata": {},
     "output_type": "execute_result"
    }
   ],
   "source": [
    "# df['age'] = today.year - df['dob'].dt.year\n",
    "df['singup_purchase_date_difference'] = (df['purchase_datepart'] - df['signup_datepart']).astype('str')\n",
    "df['singup_purchase_date_difference'] = df['singup_purchase_date_difference'].str.split(' ',expand=True)[0]\n",
    "df[['signup_datepart','purchase_datepart','singup_purchase_date_difference','class']].head()"
   ]
  },
  {
   "cell_type": "markdown",
   "id": "4669dcf4",
   "metadata": {},
   "source": [
    "##### 3.2.d Difference between purchase_time and singup_time"
   ]
  },
  {
   "cell_type": "code",
   "execution_count": 26,
   "id": "d62ee9ab",
   "metadata": {},
   "outputs": [
    {
     "data": {
      "text/html": [
       "<div>\n",
       "<style scoped>\n",
       "    .dataframe tbody tr th:only-of-type {\n",
       "        vertical-align: middle;\n",
       "    }\n",
       "\n",
       "    .dataframe tbody tr th {\n",
       "        vertical-align: top;\n",
       "    }\n",
       "\n",
       "    .dataframe thead th {\n",
       "        text-align: right;\n",
       "    }\n",
       "</style>\n",
       "<table border=\"1\" class=\"dataframe\">\n",
       "  <thead>\n",
       "    <tr style=\"text-align: right;\">\n",
       "      <th></th>\n",
       "      <th>purchase_time</th>\n",
       "      <th>signup_time</th>\n",
       "      <th>singup_purchase_time_difference</th>\n",
       "      <th>class</th>\n",
       "    </tr>\n",
       "  </thead>\n",
       "  <tbody>\n",
       "    <tr>\n",
       "      <th>0</th>\n",
       "      <td>2015-04-18 02:47:11</td>\n",
       "      <td>2015-02-24 22:55:49</td>\n",
       "      <td>1251.856111</td>\n",
       "      <td>0</td>\n",
       "    </tr>\n",
       "    <tr>\n",
       "      <th>1</th>\n",
       "      <td>2015-06-08 01:38:54</td>\n",
       "      <td>2015-06-07 20:39:50</td>\n",
       "      <td>4.984444</td>\n",
       "      <td>0</td>\n",
       "    </tr>\n",
       "    <tr>\n",
       "      <th>2</th>\n",
       "      <td>2015-01-01 18:52:45</td>\n",
       "      <td>2015-01-01 18:52:44</td>\n",
       "      <td>0.000278</td>\n",
       "      <td>1</td>\n",
       "    </tr>\n",
       "    <tr>\n",
       "      <th>3</th>\n",
       "      <td>2015-05-04 13:54:50</td>\n",
       "      <td>2015-04-28 21:13:25</td>\n",
       "      <td>136.690278</td>\n",
       "      <td>0</td>\n",
       "    </tr>\n",
       "    <tr>\n",
       "      <th>4</th>\n",
       "      <td>2015-09-09 18:40:53</td>\n",
       "      <td>2015-07-21 07:09:52</td>\n",
       "      <td>1211.516944</td>\n",
       "      <td>0</td>\n",
       "    </tr>\n",
       "  </tbody>\n",
       "</table>\n",
       "</div>"
      ],
      "text/plain": [
       "        purchase_time         signup_time  singup_purchase_time_difference  \\\n",
       "0 2015-04-18 02:47:11 2015-02-24 22:55:49                      1251.856111   \n",
       "1 2015-06-08 01:38:54 2015-06-07 20:39:50                         4.984444   \n",
       "2 2015-01-01 18:52:45 2015-01-01 18:52:44                         0.000278   \n",
       "3 2015-05-04 13:54:50 2015-04-28 21:13:25                       136.690278   \n",
       "4 2015-09-09 18:40:53 2015-07-21 07:09:52                      1211.516944   \n",
       "\n",
       "   class  \n",
       "0      0  \n",
       "1      0  \n",
       "2      1  \n",
       "3      0  \n",
       "4      0  "
      ]
     },
     "execution_count": 26,
     "metadata": {},
     "output_type": "execute_result"
    }
   ],
   "source": [
    "df['singup_purchase_time_difference'] = df['purchase_time'] - df['signup_time']\n",
    "df['singup_purchase_time_difference']=df['singup_purchase_time_difference']/np.timedelta64(1,'h')\n",
    "df[['purchase_time', 'signup_time', 'singup_purchase_time_difference','class']].head()"
   ]
  },
  {
   "cell_type": "markdown",
   "id": "ca899c83",
   "metadata": {},
   "source": [
    "##### 3.2.e Age from DOB"
   ]
  },
  {
   "cell_type": "code",
   "execution_count": 27,
   "id": "a8b91814",
   "metadata": {},
   "outputs": [
    {
     "data": {
      "text/html": [
       "<div>\n",
       "<style scoped>\n",
       "    .dataframe tbody tr th:only-of-type {\n",
       "        vertical-align: middle;\n",
       "    }\n",
       "\n",
       "    .dataframe tbody tr th {\n",
       "        vertical-align: top;\n",
       "    }\n",
       "\n",
       "    .dataframe thead th {\n",
       "        text-align: right;\n",
       "    }\n",
       "</style>\n",
       "<table border=\"1\" class=\"dataframe\">\n",
       "  <thead>\n",
       "    <tr style=\"text-align: right;\">\n",
       "      <th></th>\n",
       "      <th>dob</th>\n",
       "      <th>age</th>\n",
       "    </tr>\n",
       "  </thead>\n",
       "  <tbody>\n",
       "    <tr>\n",
       "      <th>0</th>\n",
       "      <td>1976-02-22</td>\n",
       "      <td>47</td>\n",
       "    </tr>\n",
       "    <tr>\n",
       "      <th>1</th>\n",
       "      <td>1962-02-01</td>\n",
       "      <td>61</td>\n",
       "    </tr>\n",
       "  </tbody>\n",
       "</table>\n",
       "</div>"
      ],
      "text/plain": [
       "         dob  age\n",
       "0 1976-02-22   47\n",
       "1 1962-02-01   61"
      ]
     },
     "execution_count": 27,
     "metadata": {},
     "output_type": "execute_result"
    }
   ],
   "source": [
    "today = pd.to_datetime('today')\n",
    "df['age'] = today.year - df['dob'].dt.year\n",
    "df[['dob', 'age']].head(2)"
   ]
  },
  {
   "cell_type": "markdown",
   "id": "c2426087",
   "metadata": {},
   "source": [
    "##### 3.2.f IP Address Conversion (Extrat some significance as per the target variable)"
   ]
  },
  {
   "cell_type": "code",
   "execution_count": 28,
   "id": "b79ae86d",
   "metadata": {},
   "outputs": [
    {
     "data": {
      "text/html": [
       "<div>\n",
       "<style scoped>\n",
       "    .dataframe tbody tr th:only-of-type {\n",
       "        vertical-align: middle;\n",
       "    }\n",
       "\n",
       "    .dataframe tbody tr th {\n",
       "        vertical-align: top;\n",
       "    }\n",
       "\n",
       "    .dataframe thead th {\n",
       "        text-align: right;\n",
       "    }\n",
       "</style>\n",
       "<table border=\"1\" class=\"dataframe\">\n",
       "  <thead>\n",
       "    <tr style=\"text-align: right;\">\n",
       "      <th></th>\n",
       "      <th>ip_address</th>\n",
       "      <th>ip_new</th>\n",
       "    </tr>\n",
       "  </thead>\n",
       "  <tbody>\n",
       "    <tr>\n",
       "      <th>0</th>\n",
       "      <td>7.327584e+08</td>\n",
       "      <td>732758368</td>\n",
       "    </tr>\n",
       "    <tr>\n",
       "      <th>1</th>\n",
       "      <td>3.503114e+08</td>\n",
       "      <td>350311387</td>\n",
       "    </tr>\n",
       "    <tr>\n",
       "      <th>2</th>\n",
       "      <td>2.621474e+09</td>\n",
       "      <td>2621473820</td>\n",
       "    </tr>\n",
       "    <tr>\n",
       "      <th>3</th>\n",
       "      <td>3.840542e+09</td>\n",
       "      <td>3840542443</td>\n",
       "    </tr>\n",
       "    <tr>\n",
       "      <th>4</th>\n",
       "      <td>4.155831e+08</td>\n",
       "      <td>415583117</td>\n",
       "    </tr>\n",
       "  </tbody>\n",
       "</table>\n",
       "</div>"
      ],
      "text/plain": [
       "     ip_address      ip_new\n",
       "0  7.327584e+08   732758368\n",
       "1  3.503114e+08   350311387\n",
       "2  2.621474e+09  2621473820\n",
       "3  3.840542e+09  3840542443\n",
       "4  4.155831e+08   415583117"
      ]
     },
     "execution_count": 28,
     "metadata": {},
     "output_type": "execute_result"
    }
   ],
   "source": [
    "df['ip_new'] = df['ip_address'].apply(np.int64)\n",
    "df[['ip_address', 'ip_new']].head()"
   ]
  },
  {
   "cell_type": "code",
   "execution_count": 29,
   "id": "f6125d80",
   "metadata": {},
   "outputs": [],
   "source": [
    "# importing the module\n",
    "import ipaddress"
   ]
  },
  {
   "cell_type": "code",
   "execution_count": 30,
   "id": "f7f7c64b",
   "metadata": {},
   "outputs": [],
   "source": [
    "# define a function to convert integer to IP address\n",
    "def int_to_ip(int_ip):\n",
    "    try:\n",
    "        return str(ipaddress.ip_address(int_ip))\n",
    "    except:\n",
    "        return None   "
   ]
  },
  {
   "cell_type": "code",
   "execution_count": 31,
   "id": "dd72180f",
   "metadata": {},
   "outputs": [
    {
     "data": {
      "text/html": [
       "<div>\n",
       "<style scoped>\n",
       "    .dataframe tbody tr th:only-of-type {\n",
       "        vertical-align: middle;\n",
       "    }\n",
       "\n",
       "    .dataframe tbody tr th {\n",
       "        vertical-align: top;\n",
       "    }\n",
       "\n",
       "    .dataframe thead th {\n",
       "        text-align: right;\n",
       "    }\n",
       "</style>\n",
       "<table border=\"1\" class=\"dataframe\">\n",
       "  <thead>\n",
       "    <tr style=\"text-align: right;\">\n",
       "      <th></th>\n",
       "      <th>ip_address</th>\n",
       "      <th>ip_new</th>\n",
       "    </tr>\n",
       "  </thead>\n",
       "  <tbody>\n",
       "    <tr>\n",
       "      <th>0</th>\n",
       "      <td>7.327584e+08</td>\n",
       "      <td>43.173.1.96</td>\n",
       "    </tr>\n",
       "    <tr>\n",
       "      <th>1</th>\n",
       "      <td>3.503114e+08</td>\n",
       "      <td>20.225.83.219</td>\n",
       "    </tr>\n",
       "  </tbody>\n",
       "</table>\n",
       "</div>"
      ],
      "text/plain": [
       "     ip_address         ip_new\n",
       "0  7.327584e+08    43.173.1.96\n",
       "1  3.503114e+08  20.225.83.219"
      ]
     },
     "execution_count": 31,
     "metadata": {},
     "output_type": "execute_result"
    }
   ],
   "source": [
    "# apply the function to the dataframe\n",
    "df['ip_new'] = df['ip_new'].apply(int_to_ip)\n",
    "df[[\"ip_address\",\"ip_new\"]].head(2)"
   ]
  },
  {
   "cell_type": "markdown",
   "id": "4cb87f0c",
   "metadata": {},
   "source": [
    "##### 3.2.g One-Hot-Encoding for Discreate Variables (Nominal/Ordinal)"
   ]
  },
  {
   "cell_type": "markdown",
   "id": "e08a1780",
   "metadata": {},
   "source": [
    "##### The difference between singup & purchase date <  0, seems to be a significant new variable"
   ]
  },
  {
   "cell_type": "code",
   "execution_count": 32,
   "id": "06b2ab42",
   "metadata": {},
   "outputs": [
    {
     "data": {
      "text/plain": [
       "0    133172\n",
       "1      8232\n",
       "Name: singup_purchase_date_difference_dummy, dtype: int64"
      ]
     },
     "execution_count": 32,
     "metadata": {},
     "output_type": "execute_result"
    }
   ],
   "source": [
    "df['singup_purchase_date_difference_dummy'] = df['singup_purchase_date_difference'].apply(lambda x: 1 if x == '0'else 0)\n",
    "df.singup_purchase_date_difference_dummy.value_counts()"
   ]
  },
  {
   "cell_type": "code",
   "execution_count": 33,
   "id": "e80afd78",
   "metadata": {},
   "outputs": [
    {
     "data": {
      "text/html": [
       "<div>\n",
       "<style scoped>\n",
       "    .dataframe tbody tr th:only-of-type {\n",
       "        vertical-align: middle;\n",
       "    }\n",
       "\n",
       "    .dataframe tbody tr th {\n",
       "        vertical-align: top;\n",
       "    }\n",
       "\n",
       "    .dataframe thead th {\n",
       "        text-align: right;\n",
       "    }\n",
       "</style>\n",
       "<table border=\"1\" class=\"dataframe\">\n",
       "  <thead>\n",
       "    <tr style=\"text-align: right;\">\n",
       "      <th>class</th>\n",
       "      <th>0</th>\n",
       "      <th>1</th>\n",
       "    </tr>\n",
       "    <tr>\n",
       "      <th>singup_purchase_date_difference_dummy</th>\n",
       "      <th></th>\n",
       "      <th></th>\n",
       "    </tr>\n",
       "  </thead>\n",
       "  <tbody>\n",
       "    <tr>\n",
       "      <th>0</th>\n",
       "      <td>0.995841</td>\n",
       "      <td>0.418505</td>\n",
       "    </tr>\n",
       "    <tr>\n",
       "      <th>1</th>\n",
       "      <td>0.004159</td>\n",
       "      <td>0.581495</td>\n",
       "    </tr>\n",
       "  </tbody>\n",
       "</table>\n",
       "</div>"
      ],
      "text/plain": [
       "class                                         0         1\n",
       "singup_purchase_date_difference_dummy                    \n",
       "0                                      0.995841  0.418505\n",
       "1                                      0.004159  0.581495"
      ]
     },
     "execution_count": 33,
     "metadata": {},
     "output_type": "execute_result"
    }
   ],
   "source": [
    "singup_purchase_date_difference_dummy_group = pd.crosstab(index = df['singup_purchase_date_difference_dummy'], \n",
    "                                                          columns = df['class'], normalize='columns')\n",
    "singup_purchase_date_difference_dummy_group"
   ]
  },
  {
   "cell_type": "code",
   "execution_count": 34,
   "id": "a8d24c97",
   "metadata": {},
   "outputs": [
    {
     "data": {
      "text/plain": [
       "<function matplotlib.pyplot.legend(*args, **kwargs)>"
      ]
     },
     "execution_count": 34,
     "metadata": {},
     "output_type": "execute_result"
    },
    {
     "data": {
      "text/plain": [
       "<Figure size 1008x360 with 0 Axes>"
      ]
     },
     "metadata": {},
     "output_type": "display_data"
    },
    {
     "data": {
      "image/png": "[encoded data removed]",
      "text/plain": [
       "<Figure size 432x288 with 1 Axes>"
      ]
     },
     "metadata": {
      "needs_background": "light"
     },
     "output_type": "display_data"
    }
   ],
   "source": [
    "plt.figure(figsize=(14,5))\n",
    "singup_purchase_date_difference_dummy_group.plot.bar()\n",
    "plt.ylabel('count')\n",
    "plt.legend"
   ]
  },
  {
   "cell_type": "markdown",
   "id": "fe39dbe7",
   "metadata": {},
   "source": [
    "##### The difference between singup & purchase time < 1hour, seems to be a significant new variable"
   ]
  },
  {
   "cell_type": "code",
   "execution_count": 35,
   "id": "87400121",
   "metadata": {},
   "outputs": [
    {
     "data": {
      "text/plain": [
       "0    133172\n",
       "1      8232\n",
       "Name: singup_purchase_date_difference_dummy, dtype: int64"
      ]
     },
     "execution_count": 35,
     "metadata": {},
     "output_type": "execute_result"
    }
   ],
   "source": [
    "df['singup_purchase_time_difference_dummy'] = df['singup_purchase_time_difference'].apply(lambda x: 1 if x <= 1 else 0)\n",
    "df.singup_purchase_date_difference_dummy.value_counts()"
   ]
  },
  {
   "cell_type": "code",
   "execution_count": 36,
   "id": "d3f78262",
   "metadata": {},
   "outputs": [
    {
     "data": {
      "text/html": [
       "<div>\n",
       "<style scoped>\n",
       "    .dataframe tbody tr th:only-of-type {\n",
       "        vertical-align: middle;\n",
       "    }\n",
       "\n",
       "    .dataframe tbody tr th {\n",
       "        vertical-align: top;\n",
       "    }\n",
       "\n",
       "    .dataframe thead th {\n",
       "        text-align: right;\n",
       "    }\n",
       "</style>\n",
       "<table border=\"1\" class=\"dataframe\">\n",
       "  <thead>\n",
       "    <tr style=\"text-align: right;\">\n",
       "      <th>class</th>\n",
       "      <th>0</th>\n",
       "      <th>1</th>\n",
       "    </tr>\n",
       "    <tr>\n",
       "      <th>singup_purchase_time_difference_dummy</th>\n",
       "      <th></th>\n",
       "      <th></th>\n",
       "    </tr>\n",
       "  </thead>\n",
       "  <tbody>\n",
       "    <tr>\n",
       "      <th>0</th>\n",
       "      <td>0.941115</td>\n",
       "      <td>0.058885</td>\n",
       "    </tr>\n",
       "    <tr>\n",
       "      <th>1</th>\n",
       "      <td>0.006468</td>\n",
       "      <td>0.993532</td>\n",
       "    </tr>\n",
       "  </tbody>\n",
       "</table>\n",
       "</div>"
      ],
      "text/plain": [
       "class                                         0         1\n",
       "singup_purchase_time_difference_dummy                    \n",
       "0                                      0.941115  0.058885\n",
       "1                                      0.006468  0.993532"
      ]
     },
     "execution_count": 36,
     "metadata": {},
     "output_type": "execute_result"
    }
   ],
   "source": [
    "singup_purchase_time_difference_dummy_group = pd.crosstab(index = df['singup_purchase_time_difference_dummy'], \n",
    "                                                          columns = df['class'], normalize='index')\n",
    "singup_purchase_time_difference_dummy_group"
   ]
  },
  {
   "cell_type": "code",
   "execution_count": 37,
   "id": "9651f9d6",
   "metadata": {},
   "outputs": [
    {
     "data": {
      "text/plain": [
       "<function matplotlib.pyplot.legend(*args, **kwargs)>"
      ]
     },
     "execution_count": 37,
     "metadata": {},
     "output_type": "execute_result"
    },
    {
     "data": {
      "text/plain": [
       "<Figure size 1008x360 with 0 Axes>"
      ]
     },
     "metadata": {},
     "output_type": "display_data"
    },
    {
     "data": {
      "image/png": "[encoded data removed]",
      "text/plain": [
       "<Figure size 432x288 with 1 Axes>"
      ]
     },
     "metadata": {
      "needs_background": "light"
     },
     "output_type": "display_data"
    }
   ],
   "source": [
    "plt.figure(figsize=(14,5))\n",
    "singup_purchase_time_difference_dummy_group.plot.bar()\n",
    "plt.ylabel('count')\n",
    "plt.legend"
   ]
  },
  {
   "cell_type": "markdown",
   "id": "c9678b93",
   "metadata": {},
   "source": [
    "##### Create a new categorical variable from a continous('age') variable"
   ]
  },
  {
   "cell_type": "code",
   "execution_count": 38,
   "id": "657d0f51",
   "metadata": {},
   "outputs": [
    {
     "data": {
      "text/plain": [
       "count    141404.000000\n",
       "mean         41.871871\n",
       "std           9.595026\n",
       "min          26.000000\n",
       "25%          35.000000\n",
       "50%          41.000000\n",
       "75%          48.000000\n",
       "max          84.000000\n",
       "Name: age, dtype: float64"
      ]
     },
     "execution_count": 38,
     "metadata": {},
     "output_type": "execute_result"
    }
   ],
   "source": [
    "df.age.describe()"
   ]
  },
  {
   "cell_type": "code",
   "execution_count": 39,
   "id": "8466519f",
   "metadata": {},
   "outputs": [],
   "source": [
    "def fun(x):\n",
    "    if x <= 30:\n",
    "        x = 'Below 30'\n",
    "    elif x <= 35:\n",
    "        x = 'Between 31 & 35'\n",
    "    elif x <= 40:\n",
    "        x = 'Between 36 & 40'\n",
    "    elif x <= 50:\n",
    "        x = 'Between 41 & 50'\n",
    "    else:\n",
    "        x = 'Above 50'\n",
    "    return x"
   ]
  },
  {
   "cell_type": "code",
   "execution_count": 40,
   "id": "0d517c9d",
   "metadata": {},
   "outputs": [
    {
     "data": {
      "text/plain": [
       "Between 41 & 50    48867\n",
       "Between 36 & 40    29252\n",
       "Above 50           24065\n",
       "Between 31 & 35    23826\n",
       "Below 30           15394\n",
       "Name: age_category, dtype: int64"
      ]
     },
     "execution_count": 40,
     "metadata": {},
     "output_type": "execute_result"
    }
   ],
   "source": [
    "df['age_category'] = df['age'].apply(fun)\n",
    "df[[\"age\", \"age_category\"]].head()\n",
    "df.age_category.value_counts()"
   ]
  },
  {
   "cell_type": "code",
   "execution_count": 41,
   "id": "a0e76a15",
   "metadata": {},
   "outputs": [
    {
     "data": {
      "text/html": [
       "<div>\n",
       "<style scoped>\n",
       "    .dataframe tbody tr th:only-of-type {\n",
       "        vertical-align: middle;\n",
       "    }\n",
       "\n",
       "    .dataframe tbody tr th {\n",
       "        vertical-align: top;\n",
       "    }\n",
       "\n",
       "    .dataframe thead th {\n",
       "        text-align: right;\n",
       "    }\n",
       "</style>\n",
       "<table border=\"1\" class=\"dataframe\">\n",
       "  <thead>\n",
       "    <tr style=\"text-align: right;\">\n",
       "      <th>class</th>\n",
       "      <th>0</th>\n",
       "      <th>1</th>\n",
       "    </tr>\n",
       "    <tr>\n",
       "      <th>age_category</th>\n",
       "      <th></th>\n",
       "      <th></th>\n",
       "    </tr>\n",
       "  </thead>\n",
       "  <tbody>\n",
       "    <tr>\n",
       "      <th>Above 50</th>\n",
       "      <td>0.146336</td>\n",
       "      <td>0.401057</td>\n",
       "    </tr>\n",
       "    <tr>\n",
       "      <th>Below 30</th>\n",
       "      <td>0.112286</td>\n",
       "      <td>0.075755</td>\n",
       "    </tr>\n",
       "    <tr>\n",
       "      <th>Between 31 &amp; 35</th>\n",
       "      <td>0.174245</td>\n",
       "      <td>0.112840</td>\n",
       "    </tr>\n",
       "    <tr>\n",
       "      <th>Between 36 &amp; 40</th>\n",
       "      <td>0.212891</td>\n",
       "      <td>0.148565</td>\n",
       "    </tr>\n",
       "    <tr>\n",
       "      <th>Between 41 &amp; 50</th>\n",
       "      <td>0.354241</td>\n",
       "      <td>0.261782</td>\n",
       "    </tr>\n",
       "  </tbody>\n",
       "</table>\n",
       "</div>"
      ],
      "text/plain": [
       "class                   0         1\n",
       "age_category                       \n",
       "Above 50         0.146336  0.401057\n",
       "Below 30         0.112286  0.075755\n",
       "Between 31 & 35  0.174245  0.112840\n",
       "Between 36 & 40  0.212891  0.148565\n",
       "Between 41 & 50  0.354241  0.261782"
      ]
     },
     "execution_count": 41,
     "metadata": {},
     "output_type": "execute_result"
    }
   ],
   "source": [
    "age_category_group = pd.crosstab(index = df['age_category'], columns = df['class'],\n",
    "                                normalize = 'columns')\n",
    "age_category_group"
   ]
  },
  {
   "cell_type": "code",
   "execution_count": 42,
   "id": "d7fa8497",
   "metadata": {},
   "outputs": [
    {
     "data": {
      "text/plain": [
       "<function matplotlib.pyplot.legend(*args, **kwargs)>"
      ]
     },
     "execution_count": 42,
     "metadata": {},
     "output_type": "execute_result"
    },
    {
     "data": {
      "text/plain": [
       "<Figure size 1008x360 with 0 Axes>"
      ]
     },
     "metadata": {},
     "output_type": "display_data"
    },
    {
     "data": {
      "image/png": "[encoded data removed]",
      "text/plain": [
       "<Figure size 432x288 with 1 Axes>"
      ]
     },
     "metadata": {
      "needs_background": "light"
     },
     "output_type": "display_data"
    }
   ],
   "source": [
    "plt.figure(figsize=(14,5))\n",
    "age_category_group.plot.bar()\n",
    "plt.ylabel('count')\n",
    "plt.legend"
   ]
  },
  {
   "cell_type": "code",
   "execution_count": 43,
   "id": "3126cad4",
   "metadata": {},
   "outputs": [
    {
     "data": {
      "text/html": [
       "<div>\n",
       "<style scoped>\n",
       "    .dataframe tbody tr th:only-of-type {\n",
       "        vertical-align: middle;\n",
       "    }\n",
       "\n",
       "    .dataframe tbody tr th {\n",
       "        vertical-align: top;\n",
       "    }\n",
       "\n",
       "    .dataframe thead th {\n",
       "        text-align: right;\n",
       "    }\n",
       "</style>\n",
       "<table border=\"1\" class=\"dataframe\">\n",
       "  <thead>\n",
       "    <tr style=\"text-align: right;\">\n",
       "      <th></th>\n",
       "      <th>user_id</th>\n",
       "      <th>signup_time</th>\n",
       "      <th>purchase_time</th>\n",
       "      <th>purchase_value</th>\n",
       "      <th>device_id</th>\n",
       "      <th>ip_address</th>\n",
       "      <th>class</th>\n",
       "      <th>dob</th>\n",
       "      <th>signup_datepart</th>\n",
       "      <th>signup_timepart</th>\n",
       "      <th>...</th>\n",
       "      <th>sex_M</th>\n",
       "      <th>category_cosmetics</th>\n",
       "      <th>category_electronics</th>\n",
       "      <th>category_health_care</th>\n",
       "      <th>category_home_essentials</th>\n",
       "      <th>age_category_Above 50</th>\n",
       "      <th>age_category_Below 30</th>\n",
       "      <th>age_category_Between 31 &amp; 35</th>\n",
       "      <th>age_category_Between 36 &amp; 40</th>\n",
       "      <th>age_category_Between 41 &amp; 50</th>\n",
       "    </tr>\n",
       "  </thead>\n",
       "  <tbody>\n",
       "    <tr>\n",
       "      <th>0</th>\n",
       "      <td>22058</td>\n",
       "      <td>2015-02-24 22:55:49</td>\n",
       "      <td>2015-04-18 02:47:11</td>\n",
       "      <td>65278</td>\n",
       "      <td>QVPSPJUOCKZAR</td>\n",
       "      <td>7.327584e+08</td>\n",
       "      <td>0</td>\n",
       "      <td>1976-02-22</td>\n",
       "      <td>2015-02-24</td>\n",
       "      <td>22:55:49</td>\n",
       "      <td>...</td>\n",
       "      <td>1</td>\n",
       "      <td>0</td>\n",
       "      <td>0</td>\n",
       "      <td>0</td>\n",
       "      <td>1</td>\n",
       "      <td>0</td>\n",
       "      <td>0</td>\n",
       "      <td>0</td>\n",
       "      <td>0</td>\n",
       "      <td>1</td>\n",
       "    </tr>\n",
       "    <tr>\n",
       "      <th>1</th>\n",
       "      <td>333320</td>\n",
       "      <td>2015-06-07 20:39:50</td>\n",
       "      <td>2015-06-08 01:38:54</td>\n",
       "      <td>96399</td>\n",
       "      <td>EOGFQPIZPYXFZ</td>\n",
       "      <td>3.503114e+08</td>\n",
       "      <td>0</td>\n",
       "      <td>1962-02-01</td>\n",
       "      <td>2015-06-07</td>\n",
       "      <td>20:39:50</td>\n",
       "      <td>...</td>\n",
       "      <td>0</td>\n",
       "      <td>0</td>\n",
       "      <td>0</td>\n",
       "      <td>0</td>\n",
       "      <td>0</td>\n",
       "      <td>1</td>\n",
       "      <td>0</td>\n",
       "      <td>0</td>\n",
       "      <td>0</td>\n",
       "      <td>0</td>\n",
       "    </tr>\n",
       "    <tr>\n",
       "      <th>2</th>\n",
       "      <td>1359</td>\n",
       "      <td>2015-01-01 18:52:44</td>\n",
       "      <td>2015-01-01 18:52:45</td>\n",
       "      <td>57296</td>\n",
       "      <td>YSSKYOSJHPPLJ</td>\n",
       "      <td>2.621474e+09</td>\n",
       "      <td>1</td>\n",
       "      <td>1962-05-03</td>\n",
       "      <td>2015-01-01</td>\n",
       "      <td>18:52:44</td>\n",
       "      <td>...</td>\n",
       "      <td>1</td>\n",
       "      <td>0</td>\n",
       "      <td>1</td>\n",
       "      <td>0</td>\n",
       "      <td>0</td>\n",
       "      <td>1</td>\n",
       "      <td>0</td>\n",
       "      <td>0</td>\n",
       "      <td>0</td>\n",
       "      <td>0</td>\n",
       "    </tr>\n",
       "    <tr>\n",
       "      <th>3</th>\n",
       "      <td>150084</td>\n",
       "      <td>2015-04-28 21:13:25</td>\n",
       "      <td>2015-05-04 13:54:50</td>\n",
       "      <td>43650</td>\n",
       "      <td>ATGTXKYKUDUQN</td>\n",
       "      <td>3.840542e+09</td>\n",
       "      <td>0</td>\n",
       "      <td>1974-03-07</td>\n",
       "      <td>2015-04-28</td>\n",
       "      <td>21:13:25</td>\n",
       "      <td>...</td>\n",
       "      <td>1</td>\n",
       "      <td>0</td>\n",
       "      <td>0</td>\n",
       "      <td>1</td>\n",
       "      <td>0</td>\n",
       "      <td>0</td>\n",
       "      <td>0</td>\n",
       "      <td>0</td>\n",
       "      <td>0</td>\n",
       "      <td>1</td>\n",
       "    </tr>\n",
       "    <tr>\n",
       "      <th>4</th>\n",
       "      <td>221365</td>\n",
       "      <td>2015-07-21 07:09:52</td>\n",
       "      <td>2015-09-09 18:40:53</td>\n",
       "      <td>45016</td>\n",
       "      <td>NAUITBZFJKHWW</td>\n",
       "      <td>4.155831e+08</td>\n",
       "      <td>0</td>\n",
       "      <td>1970-08-25</td>\n",
       "      <td>2015-07-21</td>\n",
       "      <td>07:09:52</td>\n",
       "      <td>...</td>\n",
       "      <td>1</td>\n",
       "      <td>0</td>\n",
       "      <td>0</td>\n",
       "      <td>0</td>\n",
       "      <td>1</td>\n",
       "      <td>1</td>\n",
       "      <td>0</td>\n",
       "      <td>0</td>\n",
       "      <td>0</td>\n",
       "      <td>0</td>\n",
       "    </tr>\n",
       "  </tbody>\n",
       "</table>\n",
       "<p>5 rows × 34 columns</p>\n",
       "</div>"
      ],
      "text/plain": [
       "   user_id         signup_time       purchase_time  purchase_value  \\\n",
       "0    22058 2015-02-24 22:55:49 2015-04-18 02:47:11           65278   \n",
       "1   333320 2015-06-07 20:39:50 2015-06-08 01:38:54           96399   \n",
       "2     1359 2015-01-01 18:52:44 2015-01-01 18:52:45           57296   \n",
       "3   150084 2015-04-28 21:13:25 2015-05-04 13:54:50           43650   \n",
       "4   221365 2015-07-21 07:09:52 2015-09-09 18:40:53           45016   \n",
       "\n",
       "       device_id    ip_address  class        dob signup_datepart  \\\n",
       "0  QVPSPJUOCKZAR  7.327584e+08      0 1976-02-22      2015-02-24   \n",
       "1  EOGFQPIZPYXFZ  3.503114e+08      0 1962-02-01      2015-06-07   \n",
       "2  YSSKYOSJHPPLJ  2.621474e+09      1 1962-05-03      2015-01-01   \n",
       "3  ATGTXKYKUDUQN  3.840542e+09      0 1974-03-07      2015-04-28   \n",
       "4  NAUITBZFJKHWW  4.155831e+08      0 1970-08-25      2015-07-21   \n",
       "\n",
       "  signup_timepart  ... sex_M category_cosmetics category_electronics  \\\n",
       "0        22:55:49  ...     1                  0                    0   \n",
       "1        20:39:50  ...     0                  0                    0   \n",
       "2        18:52:44  ...     1                  0                    1   \n",
       "3        21:13:25  ...     1                  0                    0   \n",
       "4        07:09:52  ...     1                  0                    0   \n",
       "\n",
       "   category_health_care  category_home_essentials age_category_Above 50  \\\n",
       "0                     0                         1                     0   \n",
       "1                     0                         0                     1   \n",
       "2                     0                         0                     1   \n",
       "3                     1                         0                     0   \n",
       "4                     0                         1                     1   \n",
       "\n",
       "   age_category_Below 30  age_category_Between 31 & 35  \\\n",
       "0                      0                             0   \n",
       "1                      0                             0   \n",
       "2                      0                             0   \n",
       "3                      0                             0   \n",
       "4                      0                             0   \n",
       "\n",
       "   age_category_Between 36 & 40  age_category_Between 41 & 50  \n",
       "0                             0                             1  \n",
       "1                             0                             0  \n",
       "2                             0                             0  \n",
       "3                             0                             1  \n",
       "4                             0                             0  \n",
       "\n",
       "[5 rows x 34 columns]"
      ]
     },
     "execution_count": 43,
     "metadata": {},
     "output_type": "execute_result"
    }
   ],
   "source": [
    "#source, browser, sex, category, age_category_group\n",
    "pd_data_dum_drop = pd.get_dummies(df, columns=['source','browser','sex', 'category'], drop_first=True)\n",
    "pd_data_dum_drop = pd.get_dummies(pd_data_dum_drop, columns=['age_category'], drop_first=False)\n",
    "pd_data_dum_drop.head()"
   ]
  },
  {
   "cell_type": "code",
   "execution_count": 44,
   "id": "6f09feeb",
   "metadata": {},
   "outputs": [
    {
     "data": {
      "text/html": [
       "<div>\n",
       "<style scoped>\n",
       "    .dataframe tbody tr th:only-of-type {\n",
       "        vertical-align: middle;\n",
       "    }\n",
       "\n",
       "    .dataframe tbody tr th {\n",
       "        vertical-align: top;\n",
       "    }\n",
       "\n",
       "    .dataframe thead th {\n",
       "        text-align: right;\n",
       "    }\n",
       "</style>\n",
       "<table border=\"1\" class=\"dataframe\">\n",
       "  <thead>\n",
       "    <tr style=\"text-align: right;\">\n",
       "      <th></th>\n",
       "      <th>user_id</th>\n",
       "      <th>signup_time</th>\n",
       "      <th>purchase_time</th>\n",
       "      <th>purchase_value</th>\n",
       "      <th>device_id</th>\n",
       "      <th>ip_address</th>\n",
       "      <th>class</th>\n",
       "      <th>dob</th>\n",
       "      <th>signup_datepart</th>\n",
       "      <th>signup_timepart</th>\n",
       "      <th>...</th>\n",
       "      <th>sex_M</th>\n",
       "      <th>category_cosmetics</th>\n",
       "      <th>category_electronics</th>\n",
       "      <th>category_health_care</th>\n",
       "      <th>category_home_essentials</th>\n",
       "      <th>age_category_Above 50</th>\n",
       "      <th>age_category_Below 30</th>\n",
       "      <th>age_category_Between 31 &amp; 35</th>\n",
       "      <th>age_category_Between 36 &amp; 40</th>\n",
       "      <th>age_category_Between 41 &amp; 50</th>\n",
       "    </tr>\n",
       "  </thead>\n",
       "  <tbody>\n",
       "    <tr>\n",
       "      <th>0</th>\n",
       "      <td>22058</td>\n",
       "      <td>2015-02-24 22:55:49</td>\n",
       "      <td>2015-04-18 02:47:11</td>\n",
       "      <td>0.517819</td>\n",
       "      <td>QVPSPJUOCKZAR</td>\n",
       "      <td>7.327584e+08</td>\n",
       "      <td>0</td>\n",
       "      <td>1976-02-22</td>\n",
       "      <td>2015-02-24</td>\n",
       "      <td>22:55:49</td>\n",
       "      <td>...</td>\n",
       "      <td>1</td>\n",
       "      <td>0</td>\n",
       "      <td>0</td>\n",
       "      <td>0</td>\n",
       "      <td>1</td>\n",
       "      <td>0</td>\n",
       "      <td>0</td>\n",
       "      <td>0</td>\n",
       "      <td>0</td>\n",
       "      <td>1</td>\n",
       "    </tr>\n",
       "    <tr>\n",
       "      <th>1</th>\n",
       "      <td>333320</td>\n",
       "      <td>2015-06-07 20:39:50</td>\n",
       "      <td>2015-06-08 01:38:54</td>\n",
       "      <td>1.608423</td>\n",
       "      <td>EOGFQPIZPYXFZ</td>\n",
       "      <td>3.503114e+08</td>\n",
       "      <td>0</td>\n",
       "      <td>1962-02-01</td>\n",
       "      <td>2015-06-07</td>\n",
       "      <td>20:39:50</td>\n",
       "      <td>...</td>\n",
       "      <td>0</td>\n",
       "      <td>0</td>\n",
       "      <td>0</td>\n",
       "      <td>0</td>\n",
       "      <td>0</td>\n",
       "      <td>1</td>\n",
       "      <td>0</td>\n",
       "      <td>0</td>\n",
       "      <td>0</td>\n",
       "      <td>0</td>\n",
       "    </tr>\n",
       "    <tr>\n",
       "      <th>2</th>\n",
       "      <td>1359</td>\n",
       "      <td>2015-01-01 18:52:44</td>\n",
       "      <td>2015-01-01 18:52:45</td>\n",
       "      <td>0.238097</td>\n",
       "      <td>YSSKYOSJHPPLJ</td>\n",
       "      <td>2.621474e+09</td>\n",
       "      <td>1</td>\n",
       "      <td>1962-05-03</td>\n",
       "      <td>2015-01-01</td>\n",
       "      <td>18:52:44</td>\n",
       "      <td>...</td>\n",
       "      <td>1</td>\n",
       "      <td>0</td>\n",
       "      <td>1</td>\n",
       "      <td>0</td>\n",
       "      <td>0</td>\n",
       "      <td>1</td>\n",
       "      <td>0</td>\n",
       "      <td>0</td>\n",
       "      <td>0</td>\n",
       "      <td>0</td>\n",
       "    </tr>\n",
       "    <tr>\n",
       "      <th>3</th>\n",
       "      <td>150084</td>\n",
       "      <td>2015-04-28 21:13:25</td>\n",
       "      <td>2015-05-04 13:54:50</td>\n",
       "      <td>-0.240113</td>\n",
       "      <td>ATGTXKYKUDUQN</td>\n",
       "      <td>3.840542e+09</td>\n",
       "      <td>0</td>\n",
       "      <td>1974-03-07</td>\n",
       "      <td>2015-04-28</td>\n",
       "      <td>21:13:25</td>\n",
       "      <td>...</td>\n",
       "      <td>1</td>\n",
       "      <td>0</td>\n",
       "      <td>0</td>\n",
       "      <td>1</td>\n",
       "      <td>0</td>\n",
       "      <td>0</td>\n",
       "      <td>0</td>\n",
       "      <td>0</td>\n",
       "      <td>0</td>\n",
       "      <td>1</td>\n",
       "    </tr>\n",
       "    <tr>\n",
       "      <th>4</th>\n",
       "      <td>221365</td>\n",
       "      <td>2015-07-21 07:09:52</td>\n",
       "      <td>2015-09-09 18:40:53</td>\n",
       "      <td>-0.192243</td>\n",
       "      <td>NAUITBZFJKHWW</td>\n",
       "      <td>4.155831e+08</td>\n",
       "      <td>0</td>\n",
       "      <td>1970-08-25</td>\n",
       "      <td>2015-07-21</td>\n",
       "      <td>07:09:52</td>\n",
       "      <td>...</td>\n",
       "      <td>1</td>\n",
       "      <td>0</td>\n",
       "      <td>0</td>\n",
       "      <td>0</td>\n",
       "      <td>1</td>\n",
       "      <td>1</td>\n",
       "      <td>0</td>\n",
       "      <td>0</td>\n",
       "      <td>0</td>\n",
       "      <td>0</td>\n",
       "    </tr>\n",
       "  </tbody>\n",
       "</table>\n",
       "<p>5 rows × 34 columns</p>\n",
       "</div>"
      ],
      "text/plain": [
       "   user_id         signup_time       purchase_time  purchase_value  \\\n",
       "0    22058 2015-02-24 22:55:49 2015-04-18 02:47:11        0.517819   \n",
       "1   333320 2015-06-07 20:39:50 2015-06-08 01:38:54        1.608423   \n",
       "2     1359 2015-01-01 18:52:44 2015-01-01 18:52:45        0.238097   \n",
       "3   150084 2015-04-28 21:13:25 2015-05-04 13:54:50       -0.240113   \n",
       "4   221365 2015-07-21 07:09:52 2015-09-09 18:40:53       -0.192243   \n",
       "\n",
       "       device_id    ip_address  class        dob signup_datepart  \\\n",
       "0  QVPSPJUOCKZAR  7.327584e+08      0 1976-02-22      2015-02-24   \n",
       "1  EOGFQPIZPYXFZ  3.503114e+08      0 1962-02-01      2015-06-07   \n",
       "2  YSSKYOSJHPPLJ  2.621474e+09      1 1962-05-03      2015-01-01   \n",
       "3  ATGTXKYKUDUQN  3.840542e+09      0 1974-03-07      2015-04-28   \n",
       "4  NAUITBZFJKHWW  4.155831e+08      0 1970-08-25      2015-07-21   \n",
       "\n",
       "  signup_timepart  ... sex_M category_cosmetics category_electronics  \\\n",
       "0        22:55:49  ...     1                  0                    0   \n",
       "1        20:39:50  ...     0                  0                    0   \n",
       "2        18:52:44  ...     1                  0                    1   \n",
       "3        21:13:25  ...     1                  0                    0   \n",
       "4        07:09:52  ...     1                  0                    0   \n",
       "\n",
       "   category_health_care  category_home_essentials age_category_Above 50  \\\n",
       "0                     0                         1                     0   \n",
       "1                     0                         0                     1   \n",
       "2                     0                         0                     1   \n",
       "3                     1                         0                     0   \n",
       "4                     0                         1                     1   \n",
       "\n",
       "   age_category_Below 30  age_category_Between 31 & 35  \\\n",
       "0                      0                             0   \n",
       "1                      0                             0   \n",
       "2                      0                             0   \n",
       "3                      0                             0   \n",
       "4                      0                             0   \n",
       "\n",
       "   age_category_Between 36 & 40  age_category_Between 41 & 50  \n",
       "0                             0                             1  \n",
       "1                             0                             0  \n",
       "2                             0                             0  \n",
       "3                             0                             1  \n",
       "4                             0                             0  \n",
       "\n",
       "[5 rows x 34 columns]"
      ]
     },
     "execution_count": 44,
     "metadata": {},
     "output_type": "execute_result"
    }
   ],
   "source": [
    "# Using SKlearn & StandardScalar.\n",
    "scaler = StandardScaler()\n",
    "pd_data_dum_drop.iloc[:,3:4]=scaler.fit_transform(pd_data_dum_drop.iloc[:,3:4].to_numpy())\n",
    "pd_data_dum_drop.head()"
   ]
  },
  {
   "cell_type": "code",
   "execution_count": 45,
   "id": "5d54c000",
   "metadata": {},
   "outputs": [
    {
     "data": {
      "text/plain": [
       "Index(['user_id', 'signup_time', 'purchase_time', 'purchase_value',\n",
       "       'device_id', 'ip_address', 'class', 'dob', 'signup_datepart',\n",
       "       'signup_timepart', 'purchase_datepart', 'purchase_timepart',\n",
       "       'singup_purchase_date_difference', 'singup_purchase_time_difference',\n",
       "       'age', 'ip_new', 'singup_purchase_date_difference_dummy',\n",
       "       'singup_purchase_time_difference_dummy', 'source_Direct', 'source_SEO',\n",
       "       'browser_FireFox', 'browser_IE', 'browser_Opera', 'browser_Safari',\n",
       "       'sex_M', 'category_cosmetics', 'category_electronics',\n",
       "       'category_health_care', 'category_home_essentials',\n",
       "       'age_category_Above 50', 'age_category_Below 30',\n",
       "       'age_category_Between 31 & 35', 'age_category_Between 36 & 40',\n",
       "       'age_category_Between 41 & 50'],\n",
       "      dtype='object')"
      ]
     },
     "execution_count": 45,
     "metadata": {},
     "output_type": "execute_result"
    }
   ],
   "source": [
    "pd_data_dum_drop.columns"
   ]
  },
  {
   "cell_type": "code",
   "execution_count": 46,
   "id": "af4d0637",
   "metadata": {},
   "outputs": [
    {
     "data": {
      "text/html": [
       "<div>\n",
       "<style scoped>\n",
       "    .dataframe tbody tr th:only-of-type {\n",
       "        vertical-align: middle;\n",
       "    }\n",
       "\n",
       "    .dataframe tbody tr th {\n",
       "        vertical-align: top;\n",
       "    }\n",
       "\n",
       "    .dataframe thead th {\n",
       "        text-align: right;\n",
       "    }\n",
       "</style>\n",
       "<table border=\"1\" class=\"dataframe\">\n",
       "  <thead>\n",
       "    <tr style=\"text-align: right;\">\n",
       "      <th></th>\n",
       "      <th>class</th>\n",
       "      <th>singup_purchase_time_difference_dummy</th>\n",
       "      <th>singup_purchase_date_difference_dummy</th>\n",
       "      <th>source_Direct</th>\n",
       "      <th>source_SEO</th>\n",
       "      <th>browser_FireFox</th>\n",
       "      <th>browser_IE</th>\n",
       "      <th>browser_Opera</th>\n",
       "      <th>browser_Safari</th>\n",
       "      <th>sex_M</th>\n",
       "      <th>category_cosmetics</th>\n",
       "      <th>category_electronics</th>\n",
       "      <th>category_health_care</th>\n",
       "      <th>category_home_essentials</th>\n",
       "      <th>age_category_Below 30</th>\n",
       "      <th>age_category_Between 31 &amp; 35</th>\n",
       "      <th>age_category_Between 36 &amp; 40</th>\n",
       "      <th>age_category_Between 41 &amp; 50</th>\n",
       "      <th>age_category_Above 50</th>\n",
       "    </tr>\n",
       "  </thead>\n",
       "  <tbody>\n",
       "    <tr>\n",
       "      <th>0</th>\n",
       "      <td>0</td>\n",
       "      <td>0</td>\n",
       "      <td>0</td>\n",
       "      <td>0</td>\n",
       "      <td>1</td>\n",
       "      <td>0</td>\n",
       "      <td>0</td>\n",
       "      <td>0</td>\n",
       "      <td>0</td>\n",
       "      <td>1</td>\n",
       "      <td>0</td>\n",
       "      <td>0</td>\n",
       "      <td>0</td>\n",
       "      <td>1</td>\n",
       "      <td>0</td>\n",
       "      <td>0</td>\n",
       "      <td>0</td>\n",
       "      <td>1</td>\n",
       "      <td>0</td>\n",
       "    </tr>\n",
       "    <tr>\n",
       "      <th>1</th>\n",
       "      <td>0</td>\n",
       "      <td>0</td>\n",
       "      <td>0</td>\n",
       "      <td>0</td>\n",
       "      <td>0</td>\n",
       "      <td>0</td>\n",
       "      <td>0</td>\n",
       "      <td>0</td>\n",
       "      <td>0</td>\n",
       "      <td>0</td>\n",
       "      <td>0</td>\n",
       "      <td>0</td>\n",
       "      <td>0</td>\n",
       "      <td>0</td>\n",
       "      <td>0</td>\n",
       "      <td>0</td>\n",
       "      <td>0</td>\n",
       "      <td>0</td>\n",
       "      <td>1</td>\n",
       "    </tr>\n",
       "    <tr>\n",
       "      <th>2</th>\n",
       "      <td>1</td>\n",
       "      <td>1</td>\n",
       "      <td>1</td>\n",
       "      <td>0</td>\n",
       "      <td>1</td>\n",
       "      <td>0</td>\n",
       "      <td>0</td>\n",
       "      <td>1</td>\n",
       "      <td>0</td>\n",
       "      <td>1</td>\n",
       "      <td>0</td>\n",
       "      <td>1</td>\n",
       "      <td>0</td>\n",
       "      <td>0</td>\n",
       "      <td>0</td>\n",
       "      <td>0</td>\n",
       "      <td>0</td>\n",
       "      <td>0</td>\n",
       "      <td>1</td>\n",
       "    </tr>\n",
       "    <tr>\n",
       "      <th>3</th>\n",
       "      <td>0</td>\n",
       "      <td>0</td>\n",
       "      <td>0</td>\n",
       "      <td>0</td>\n",
       "      <td>1</td>\n",
       "      <td>0</td>\n",
       "      <td>0</td>\n",
       "      <td>0</td>\n",
       "      <td>1</td>\n",
       "      <td>1</td>\n",
       "      <td>0</td>\n",
       "      <td>0</td>\n",
       "      <td>1</td>\n",
       "      <td>0</td>\n",
       "      <td>0</td>\n",
       "      <td>0</td>\n",
       "      <td>0</td>\n",
       "      <td>1</td>\n",
       "      <td>0</td>\n",
       "    </tr>\n",
       "    <tr>\n",
       "      <th>4</th>\n",
       "      <td>0</td>\n",
       "      <td>0</td>\n",
       "      <td>0</td>\n",
       "      <td>0</td>\n",
       "      <td>0</td>\n",
       "      <td>0</td>\n",
       "      <td>0</td>\n",
       "      <td>0</td>\n",
       "      <td>1</td>\n",
       "      <td>1</td>\n",
       "      <td>0</td>\n",
       "      <td>0</td>\n",
       "      <td>0</td>\n",
       "      <td>1</td>\n",
       "      <td>0</td>\n",
       "      <td>0</td>\n",
       "      <td>0</td>\n",
       "      <td>0</td>\n",
       "      <td>1</td>\n",
       "    </tr>\n",
       "  </tbody>\n",
       "</table>\n",
       "</div>"
      ],
      "text/plain": [
       "   class  singup_purchase_time_difference_dummy  \\\n",
       "0      0                                      0   \n",
       "1      0                                      0   \n",
       "2      1                                      1   \n",
       "3      0                                      0   \n",
       "4      0                                      0   \n",
       "\n",
       "   singup_purchase_date_difference_dummy  source_Direct  source_SEO  \\\n",
       "0                                      0              0           1   \n",
       "1                                      0              0           0   \n",
       "2                                      1              0           1   \n",
       "3                                      0              0           1   \n",
       "4                                      0              0           0   \n",
       "\n",
       "   browser_FireFox  browser_IE  browser_Opera  browser_Safari  sex_M  \\\n",
       "0                0           0              0               0      1   \n",
       "1                0           0              0               0      0   \n",
       "2                0           0              1               0      1   \n",
       "3                0           0              0               1      1   \n",
       "4                0           0              0               1      1   \n",
       "\n",
       "   category_cosmetics  category_electronics  category_health_care  \\\n",
       "0                   0                     0                     0   \n",
       "1                   0                     0                     0   \n",
       "2                   0                     1                     0   \n",
       "3                   0                     0                     1   \n",
       "4                   0                     0                     0   \n",
       "\n",
       "   category_home_essentials  age_category_Below 30  \\\n",
       "0                         1                      0   \n",
       "1                         0                      0   \n",
       "2                         0                      0   \n",
       "3                         0                      0   \n",
       "4                         1                      0   \n",
       "\n",
       "   age_category_Between 31 & 35  age_category_Between 36 & 40  \\\n",
       "0                             0                             0   \n",
       "1                             0                             0   \n",
       "2                             0                             0   \n",
       "3                             0                             0   \n",
       "4                             0                             0   \n",
       "\n",
       "   age_category_Between 41 & 50  age_category_Above 50  \n",
       "0                             1                      0  \n",
       "1                             0                      1  \n",
       "2                             0                      1  \n",
       "3                             1                      0  \n",
       "4                             0                      1  "
      ]
     },
     "execution_count": 46,
     "metadata": {},
     "output_type": "execute_result"
    }
   ],
   "source": [
    "final_data_prepared = pd_data_dum_drop[['class', 'singup_purchase_time_difference_dummy', \n",
    "                                        'singup_purchase_date_difference_dummy', \n",
    "                                        'source_Direct', 'source_SEO','browser_FireFox', 'browser_IE',\n",
    "                                        'browser_Opera', 'browser_Safari', 'sex_M', 'category_cosmetics', \n",
    "                                        'category_electronics', 'category_health_care','category_home_essentials', \n",
    "                                        'age_category_Below 30','age_category_Between 31 & 35', \n",
    "                                        'age_category_Between 36 & 40', 'age_category_Between 41 & 50',\n",
    "                                        'age_category_Above 50']]\n",
    "final_data_prepared.head()"
   ]
  },
  {
   "cell_type": "markdown",
   "id": "b3132645",
   "metadata": {},
   "source": [
    "### Step 4: Feature Selection "
   ]
  },
  {
   "cell_type": "code",
   "execution_count": 47,
   "id": "a5ed20d8",
   "metadata": {},
   "outputs": [
    {
     "data": {
      "text/plain": [
       "class                                    1.000000\n",
       "singup_purchase_time_difference_dummy    0.607007\n",
       "singup_purchase_date_difference_dummy    0.718285\n",
       "source_Direct                            0.020694\n",
       "source_SEO                              -0.011041\n",
       "browser_FireFox                          0.001863\n",
       "browser_IE                              -0.012923\n",
       "browser_Opera                           -0.003210\n",
       "browser_Safari                          -0.005384\n",
       "sex_M                                    0.008160\n",
       "category_cosmetics                      -0.022277\n",
       "category_electronics                     0.089073\n",
       "category_health_care                    -0.020089\n",
       "category_home_essentials                -0.026115\n",
       "age_category_Below 30                   -0.034167\n",
       "age_category_Between 31 & 35            -0.047791\n",
       "age_category_Between 36 & 40            -0.046263\n",
       "age_category_Between 41 & 50            -0.056638\n",
       "age_category_Above 50                    0.197460\n",
       "Name: class, dtype: float64"
      ]
     },
     "execution_count": 47,
     "metadata": {},
     "output_type": "execute_result"
    }
   ],
   "source": [
    "final_data_prepared[final_data_prepared.columns[:]].corr()['class'][:]"
   ]
  },
  {
   "cell_type": "code",
   "execution_count": 48,
   "id": "643f038b",
   "metadata": {},
   "outputs": [
    {
     "data": {
      "text/plain": [
       "<AxesSubplot:>"
      ]
     },
     "execution_count": 48,
     "metadata": {},
     "output_type": "execute_result"
    },
    {
     "data": {
      "image/png": "[encoded data removed]",
      "text/plain": [
       "<Figure size 432x288 with 2 Axes>"
      ]
     },
     "metadata": {
      "needs_background": "light"
     },
     "output_type": "display_data"
    }
   ],
   "source": [
    "# Numeric columns of the dataset\n",
    "key_col = ['class', 'singup_purchase_time_difference_dummy', \n",
    "                                        'singup_purchase_date_difference_dummy', \n",
    "                                        'sex_M', \n",
    "                                        'age_category_Above 50']\n",
    " \n",
    "# Correlation Matrix formation\n",
    "corr_matrix = final_data_prepared.loc[:,key_col].corr()\n",
    "# print(corr_matrix)\n",
    " \n",
    "#Using heatmap to visualize the correlation matrix\n",
    "sns.heatmap(corr_matrix, annot=True)"
   ]
  },
  {
   "cell_type": "code",
   "execution_count": 49,
   "id": "03f184df",
   "metadata": {},
   "outputs": [
    {
     "data": {
      "image/png": "[encoded data removed]",
      "text/plain": [
       "<Figure size 3600x1440 with 2 Axes>"
      ]
     },
     "metadata": {
      "needs_background": "light"
     },
     "output_type": "display_data"
    }
   ],
   "source": [
    "sample = final_data_prepared [['class','singup_purchase_time_difference_dummy','singup_purchase_date_difference_dummy',\n",
    "                               'source_Direct', 'sex_M', 'age_category_Above 50']]\n",
    "# set figure size\n",
    "plt.figure(figsize=(50,20))\n",
    "\n",
    "# Generate a mask to onlyshow the bottom triangle\n",
    "mask = np.triu(np.ones_like(sample.corr(), dtype=bool))\n",
    "\n",
    "# generate heatmap\n",
    "#sns.heatmap(X.corr(), annot=True, mask=mask, vmin=-1, vmax=1)\n",
    "sns.heatmap(sample.corr(), cmap = 'RdYlGn_r', annot=True, vmax = 1.0, vmin = -1.0, mask=mask,linewidths=10)\n",
    "#plt.yticks(rotation=0)\n",
    "#plt.xticks(rotation=90)\n",
    "plt.savefig('Correlation Coefficient Of Predictors_sample.png')"
   ]
  },
  {
   "cell_type": "markdown",
   "id": "52ff0127",
   "metadata": {},
   "source": [
    "### Step 5: Model Building and Evaluation"
   ]
  },
  {
   "cell_type": "code",
   "execution_count": 50,
   "id": "f6603bcc",
   "metadata": {},
   "outputs": [
    {
     "data": {
      "text/plain": [
       "(141404, 18)"
      ]
     },
     "execution_count": 50,
     "metadata": {},
     "output_type": "execute_result"
    }
   ],
   "source": [
    "# create dependent and independent feature sets\n",
    "X = final_data_prepared.drop(columns='class').copy()\n",
    "y = final_data_prepared['class'].copy()\n",
    "X.shape"
   ]
  },
  {
   "cell_type": "code",
   "execution_count": 51,
   "id": "b7eccc50",
   "metadata": {},
   "outputs": [],
   "source": [
    "# spilt the data set in training and testing set\n",
    "X_train, X_test, y_train, y_test = train_test_split(X,y, test_size = 0.25, random_state = 77)"
   ]
  },
  {
   "cell_type": "markdown",
   "id": "d5393c63",
   "metadata": {},
   "source": [
    "##### Step 5.1: Model Bulding \"Logistic Regression\""
   ]
  },
  {
   "cell_type": "code",
   "execution_count": 52,
   "id": "a7f191d0",
   "metadata": {},
   "outputs": [
    {
     "data": {
      "text/plain": [
       "LogisticRegression(C=1.0, class_weight=None, dual=False, fit_intercept=True,\n",
       "                   intercept_scaling=1, l1_ratio=None, max_iter=100,\n",
       "                   multi_class='auto', n_jobs=None, penalty='l2',\n",
       "                   random_state=None, solver='lbfgs', tol=0.0001, verbose=0,\n",
       "                   warm_start=False)"
      ]
     },
     "execution_count": 52,
     "metadata": {},
     "output_type": "execute_result"
    }
   ],
   "source": [
    "# fit the logistic regression model using sklearn\n",
    "logr = LogisticRegression()\n",
    "logr.fit(X_train, y_train)"
   ]
  },
  {
   "cell_type": "code",
   "execution_count": 53,
   "id": "94460890",
   "metadata": {},
   "outputs": [
    {
     "name": "stdout",
     "output_type": "stream",
     "text": [
      "Accuracy Score on Trained Data : 0.9568894797884077 \n",
      " F1_Score Score on Trained Data : 0.719440353460972 \n",
      " Precision Score on Trained Data : 0.9356743814844374 \n",
      " Recall Score on Trained Data : 0.5843883959724853 \n",
      " Confusion Matrix on Trained Data : \n",
      " [[95619   403]\n",
      " [ 4169  5862]]\n"
     ]
    }
   ],
   "source": [
    "# predict the values for train set using the trained model\n",
    "y_pred_train = logr.predict(X_train)\n",
    "print(\"Accuracy Score on Trained Data :\", accuracy_score(y_train, y_pred_train),\"\\n\",\n",
    "     \"F1_Score Score on Trained Data :\", f1_score(y_train, y_pred_train),\"\\n\",\n",
    "     \"Precision Score on Trained Data :\", precision_score(y_train, y_pred_train), \"\\n\",\n",
    "      \"Recall Score on Trained Data :\", recall_score(y_train, y_pred_train), \"\\n\",\n",
    "      \"Confusion Matrix on Trained Data :\",\"\\n\", confusion_matrix(y_train, y_pred_train))"
   ]
  },
  {
   "cell_type": "code",
   "execution_count": 54,
   "id": "46b66686",
   "metadata": {},
   "outputs": [
    {
     "name": "stdout",
     "output_type": "stream",
     "text": [
      "Accuracy Score on Test Data : 0.9576815365901955 \n",
      " F1_Score Score on Test Data : 0.7114197530864198 \n",
      " Precision Score on Test Data : 0.9336708860759494 \n",
      " Recall Score on Test Data : 0.5746338423184792 \n",
      " Confusion Matrix on Test Data : \n",
      " [[32011   131]\n",
      " [ 1365  1844]]\n"
     ]
    }
   ],
   "source": [
    "y_pred_test = logr.predict(X_test)\n",
    "\n",
    "# calculate the accuracy score\n",
    "print(\"Accuracy Score on Test Data :\", accuracy_score(y_test, y_pred_test),\"\\n\",\n",
    "     \"F1_Score Score on Test Data :\", f1_score(y_test, y_pred_test),\"\\n\",\n",
    "     \"Precision Score on Test Data :\", precision_score(y_test, y_pred_test), \"\\n\",\n",
    "     \"Recall Score on Test Data :\", recall_score(y_test, y_pred_test), \"\\n\",\n",
    "      \"Confusion Matrix on Test Data :\",\"\\n\", confusion_matrix(y_test, y_pred_test))"
   ]
  },
  {
   "cell_type": "markdown",
   "id": "b3df661f",
   "metadata": {},
   "source": [
    "##### Step 5.2: Model Bulding \"Support Vector Machine\""
   ]
  },
  {
   "cell_type": "code",
   "execution_count": 55,
   "id": "c836fefa",
   "metadata": {},
   "outputs": [],
   "source": [
    "from sklearn import  svm\n",
    "clf = svm.SVC()"
   ]
  },
  {
   "cell_type": "code",
   "execution_count": 56,
   "id": "c4101159",
   "metadata": {},
   "outputs": [
    {
     "data": {
      "text/plain": [
       "SVC(C=1.0, break_ties=False, cache_size=200, class_weight=None, coef0=0.0,\n",
       "    decision_function_shape='ovr', degree=3, gamma='scale', kernel='rbf',\n",
       "    max_iter=-1, probability=False, random_state=None, shrinking=True,\n",
       "    tol=0.001, verbose=False)"
      ]
     },
     "execution_count": 56,
     "metadata": {},
     "output_type": "execute_result"
    }
   ],
   "source": [
    "clf.fit(X_train, y_train) \n",
    "#draw an hyper plane to clearly seggregate the data, \n",
    "# if required, it applies a transformation so that the data points are linearly seperable"
   ]
  },
  {
   "cell_type": "code",
   "execution_count": 57,
   "id": "ed711470",
   "metadata": {},
   "outputs": [
    {
     "name": "stdout",
     "output_type": "stream",
     "text": [
      "Accuracy Score on Trained Data : 0.9597842588139892 \n",
      " F1_Score Score on Trained Data : 0.7328196454300571 \n",
      " Precision Score on Trained Data : 0.9860080917060013 \n",
      " Recall Score on Trained Data : 0.5830924135180939\n"
     ]
    }
   ],
   "source": [
    "# predict the values for train set using the trained model\n",
    "y_pred_train = clf.predict(X_train)\n",
    "print(\"Accuracy Score on Trained Data :\", accuracy_score(y_train, y_pred_train),\"\\n\",\n",
    "      \"F1_Score Score on Trained Data :\", f1_score(y_train, y_pred_train),\"\\n\",\n",
    "      \"Precision Score on Trained Data :\", precision_score(y_train, y_pred_train), \"\\n\",\n",
    "      \"Recall Score on Trained Data :\", recall_score(y_train, y_pred_train))                                                         "
   ]
  },
  {
   "cell_type": "code",
   "execution_count": 58,
   "id": "e96216d3",
   "metadata": {},
   "outputs": [
    {
     "name": "stdout",
     "output_type": "stream",
     "text": [
      "Accuracy Score on Test Data : 0.9607083250827416 \n",
      " F1_Score Score on Test Data : 0.7264132361630885 \n",
      " Precision Score on Test Data : 0.987152034261242 \n",
      " Recall Score on Test Data : 0.5746338423184792\n"
     ]
    }
   ],
   "source": [
    "# predict the values for test set using the trained model\n",
    "y_pred_test = clf.predict(X_test)\n",
    "\n",
    "# calculate the accuracy score\n",
    "print(\"Accuracy Score on Test Data :\", accuracy_score(y_test, y_pred_test),\"\\n\",\n",
    "      \"F1_Score Score on Test Data :\", f1_score(y_test, y_pred_test),\"\\n\",\n",
    "     \"Precision Score on Test Data :\", precision_score(y_test, y_pred_test), \"\\n\",\n",
    "     \"Recall Score on Test Data :\", recall_score(y_test, y_pred_test))"
   ]
  },
  {
   "cell_type": "markdown",
   "id": "8554295e",
   "metadata": {},
   "source": [
    "##### Step 5.3: Model Bulding \"KNN\""
   ]
  },
  {
   "cell_type": "code",
   "execution_count": 59,
   "id": "41a0fcdc",
   "metadata": {},
   "outputs": [
    {
     "name": "stdout",
     "output_type": "stream",
     "text": [
      "[0 0 0 ... 0 0 0]\n",
      "0.9280076942660745\n",
      "[[32030     6]\n",
      " [ 2539   776]]\n"
     ]
    }
   ],
   "source": [
    "learn_data, test_data, learn_labels, test_labels = train_test_split(X, y, test_size = 0.25)\n",
    "from sklearn.neighbors import KNeighborsClassifier\n",
    "knn = KNeighborsClassifier(n_neighbors=1000)\n",
    "  \n",
    "knn_dt=knn.fit(learn_data, learn_labels)\n",
    "  \n",
    "# Predict on dataset which model has not seen before\n",
    "yp=knn.predict(test_data)\n",
    "print(knn.predict(test_data))\n",
    "print(knn.score(test_data, test_labels))\n",
    "from sklearn.metrics import confusion_matrix\n",
    "cm=confusion_matrix(test_labels,yp)\n",
    "print(cm)"
   ]
  },
  {
   "cell_type": "code",
   "execution_count": 60,
   "id": "4d679403",
   "metadata": {},
   "outputs": [
    {
     "data": {
      "text/plain": [
       "array([0.3034188 , 0.30736484, 0.28238342, 0.28706897, 0.30690537])"
      ]
     },
     "execution_count": 60,
     "metadata": {},
     "output_type": "execute_result"
    }
   ],
   "source": [
    "cross_score_knn = cross_val_score(knn_dt, learn_data, learn_labels,cv=5,scoring='f1')\n",
    "cross_score_knn"
   ]
  },
  {
   "cell_type": "code",
   "execution_count": 61,
   "id": "433d19d3",
   "metadata": {},
   "outputs": [
    {
     "name": "stdout",
     "output_type": "stream",
     "text": [
      "The F1 score of knn is in Train-Data:  0.2974282791139244\n"
     ]
    }
   ],
   "source": [
    "avg_f1_score_knn = np.mean(cross_score_knn)\n",
    "print(\"The F1 score of knn is in Train-Data: \",avg_f1_score_knn)"
   ]
  },
  {
   "cell_type": "code",
   "execution_count": 62,
   "id": "c10b5fe5",
   "metadata": {},
   "outputs": [
    {
     "data": {
      "text/plain": [
       "array([0.10014306, 0.10028653, 0.07536232, 0.12446959, 0.10028653])"
      ]
     },
     "execution_count": 62,
     "metadata": {},
     "output_type": "execute_result"
    }
   ],
   "source": [
    "cross_score_knn = cross_val_score(knn_dt,test_data,test_labels,cv=5,scoring='f1')\n",
    "cross_score_knn"
   ]
  },
  {
   "cell_type": "code",
   "execution_count": 63,
   "id": "aab09554",
   "metadata": {},
   "outputs": [
    {
     "name": "stdout",
     "output_type": "stream",
     "text": [
      "The F1 score of knn is in Test-Data:  0.10010960721514701\n"
     ]
    }
   ],
   "source": [
    "avg_f1_score_knn = np.mean(cross_score_knn)\n",
    "print(\"The F1 score of knn is in Test-Data: \",avg_f1_score_knn)"
   ]
  },
  {
   "cell_type": "markdown",
   "id": "246ffae9",
   "metadata": {},
   "source": [
    "### Here, we have a problem with imbalanced data classification"
   ]
  },
  {
   "cell_type": "markdown",
   "id": "69456772",
   "metadata": {},
   "source": [
    "### Step 6: Model Building and Evaluation with undersampling of majority-data"
   ]
  },
  {
   "cell_type": "code",
   "execution_count": 64,
   "id": "33359b05",
   "metadata": {},
   "outputs": [
    {
     "data": {
      "text/plain": [
       "0    128164\n",
       "1     13240\n",
       "Name: class, dtype: int64"
      ]
     },
     "execution_count": 64,
     "metadata": {},
     "output_type": "execute_result"
    }
   ],
   "source": [
    "final_data_prepared['class'].value_counts()"
   ]
  },
  {
   "cell_type": "code",
   "execution_count": 65,
   "id": "93271f44",
   "metadata": {},
   "outputs": [],
   "source": [
    "from sklearn.utils import resample\n",
    "#create two different dataframe of majority and minority class \n",
    "df_majority = final_data_prepared[(final_data_prepared['class']==0)] \n",
    "df_minority = final_data_prepared[(final_data_prepared['class']==1)] "
   ]
  },
  {
   "cell_type": "markdown",
   "id": "0f9a4507",
   "metadata": {},
   "source": [
    "#### Sampling majority data (class=0) with replacement to match with the minority class"
   ]
  },
  {
   "cell_type": "code",
   "execution_count": 66,
   "id": "384f070b",
   "metadata": {},
   "outputs": [],
   "source": [
    "from sklearn.utils import resample\n",
    "df_majority_undersampled = resample(df_majority, \n",
    "                                 replace=True,    # sample with replacement\n",
    "                                 n_samples= 13240, # to match minority class\n",
    "                                 random_state=42)  # reproducible results"
   ]
  },
  {
   "cell_type": "code",
   "execution_count": 67,
   "id": "3d80f99d",
   "metadata": {},
   "outputs": [
    {
     "data": {
      "text/plain": [
       "0    13240\n",
       "1    13240\n",
       "Name: class, dtype: int64"
      ]
     },
     "execution_count": 67,
     "metadata": {},
     "output_type": "execute_result"
    }
   ],
   "source": [
    "# Combine majority class with upsampled minority class\n",
    "df_undersampled = pd.concat([df_minority, df_majority_undersampled])\n",
    "df_undersampled['class'].value_counts()"
   ]
  },
  {
   "cell_type": "code",
   "execution_count": 68,
   "id": "2e09f509",
   "metadata": {},
   "outputs": [
    {
     "data": {
      "text/plain": [
       "(26480, 18)"
      ]
     },
     "execution_count": 68,
     "metadata": {},
     "output_type": "execute_result"
    }
   ],
   "source": [
    "# create dependent and independent feature sets\n",
    "X = df_undersampled.drop(columns='class').copy()\n",
    "y = df_undersampled['class'].copy()\n",
    "X.shape"
   ]
  },
  {
   "cell_type": "code",
   "execution_count": 69,
   "id": "d385fab5",
   "metadata": {},
   "outputs": [],
   "source": [
    "# spilt the data set in training and testing set\n",
    "X_train, X_test, y_train, y_test = train_test_split(X,y, test_size = 0.25, random_state = 77)"
   ]
  },
  {
   "cell_type": "markdown",
   "id": "dc0eaefe",
   "metadata": {},
   "source": [
    "##### Step 6.1: Model Bulding \"Logistic Regression\" with undersampling of majority-data"
   ]
  },
  {
   "cell_type": "code",
   "execution_count": 70,
   "id": "1a4bf300",
   "metadata": {},
   "outputs": [
    {
     "data": {
      "text/plain": [
       "LogisticRegression(C=1.0, class_weight=None, dual=False, fit_intercept=True,\n",
       "                   intercept_scaling=1, l1_ratio=None, max_iter=100,\n",
       "                   multi_class='auto', n_jobs=None, penalty='l2',\n",
       "                   random_state=None, solver='lbfgs', tol=0.0001, verbose=0,\n",
       "                   warm_start=False)"
      ]
     },
     "execution_count": 70,
     "metadata": {},
     "output_type": "execute_result"
    }
   ],
   "source": [
    "# fit the logistic regression model using sklearn\n",
    "logr = LogisticRegression()\n",
    "logr.fit(X_train, y_train)"
   ]
  },
  {
   "cell_type": "code",
   "execution_count": 71,
   "id": "4ae94fe0",
   "metadata": {},
   "outputs": [
    {
     "name": "stdout",
     "output_type": "stream",
     "text": [
      "Accuracy Score on Trained Data : 0.8100201409869083 \n",
      " F1_Score Score on Trained Data : 0.7776009431181845 \n",
      " Precision Score on Trained Data : 0.9369318181818181 \n",
      " Recall Score on Trained Data : 0.6645843828715365 \n",
      " Confusion Matrix on Trained Data : \n",
      " [[9491  444]\n",
      " [3329 6596]]\n"
     ]
    }
   ],
   "source": [
    "# predict the values for train set using the trained model\n",
    "y_pred_train = logr.predict(X_train)\n",
    "print(\"Accuracy Score on Trained Data :\", accuracy_score(y_train, y_pred_train),\"\\n\",\n",
    "     \"F1_Score Score on Trained Data :\", f1_score(y_train, y_pred_train),\"\\n\",\n",
    "     \"Precision Score on Trained Data :\", precision_score(y_train, y_pred_train), \"\\n\",\n",
    "      \"Recall Score on Trained Data :\", recall_score(y_train, y_pred_train), \"\\n\",\n",
    "      \"Confusion Matrix on Trained Data :\",\"\\n\", confusion_matrix(y_train, y_pred_train))"
   ]
  },
  {
   "cell_type": "code",
   "execution_count": 72,
   "id": "b0912719",
   "metadata": {},
   "outputs": [
    {
     "name": "stdout",
     "output_type": "stream",
     "text": [
      "Accuracy Score on Test Data : 0.7987915407854985 \n",
      " F1_Score Score on Test Data : 0.7629049483802064 \n",
      " Precision Score on Test Data : 0.9305254016500217 \n",
      " Recall Score on Test Data : 0.6464555052790347 \n",
      " Confusion Matrix on Test Data : \n",
      " [[3145  160]\n",
      " [1172 2143]]\n"
     ]
    }
   ],
   "source": [
    "y_pred_test = logr.predict(X_test)\n",
    "\n",
    "# calculate the accuracy score\n",
    "print(\"Accuracy Score on Test Data :\", accuracy_score(y_test, y_pred_test),\"\\n\",\n",
    "     \"F1_Score Score on Test Data :\", f1_score(y_test, y_pred_test),\"\\n\",\n",
    "     \"Precision Score on Test Data :\", precision_score(y_test, y_pred_test), \"\\n\",\n",
    "     \"Recall Score on Test Data :\", recall_score(y_test, y_pred_test), \"\\n\",\n",
    "      \"Confusion Matrix on Test Data :\",\"\\n\", confusion_matrix(y_test, y_pred_test))"
   ]
  },
  {
   "cell_type": "markdown",
   "id": "b97a99f7",
   "metadata": {},
   "source": [
    "##### Step 6.2: Model Bulding \"Support Vector Machine\" with undersampling of majority-data"
   ]
  },
  {
   "cell_type": "code",
   "execution_count": 73,
   "id": "78b8a434",
   "metadata": {},
   "outputs": [],
   "source": [
    "from sklearn import  svm\n",
    "clf = svm.SVC()"
   ]
  },
  {
   "cell_type": "code",
   "execution_count": 74,
   "id": "396366ac",
   "metadata": {},
   "outputs": [
    {
     "data": {
      "text/plain": [
       "SVC(C=1.0, break_ties=False, cache_size=200, class_weight=None, coef0=0.0,\n",
       "    decision_function_shape='ovr', degree=3, gamma='scale', kernel='rbf',\n",
       "    max_iter=-1, probability=False, random_state=None, shrinking=True,\n",
       "    tol=0.001, verbose=False)"
      ]
     },
     "execution_count": 74,
     "metadata": {},
     "output_type": "execute_result"
    }
   ],
   "source": [
    "clf.fit(X_train, y_train)"
   ]
  },
  {
   "cell_type": "code",
   "execution_count": 75,
   "id": "2c01cac3",
   "metadata": {},
   "outputs": [
    {
     "name": "stdout",
     "output_type": "stream",
     "text": [
      "Accuracy Score on Trained Data : 0.813091641490433 \n",
      " F1_Score Score on Trained Data : 0.777644662753085 \n",
      " Precision Score on Trained Data : 0.9589304180824346 \n",
      " Recall Score on Trained Data : 0.6540050377833753\n"
     ]
    }
   ],
   "source": [
    "# predict the values for train set using the trained model\n",
    "y_pred_train = clf.predict(X_train)\n",
    "print(\"Accuracy Score on Trained Data :\", accuracy_score(y_train, y_pred_train),\"\\n\",\n",
    "      \"F1_Score Score on Trained Data :\", f1_score(y_train, y_pred_train),\"\\n\",\n",
    "      \"Precision Score on Trained Data :\", precision_score(y_train, y_pred_train), \"\\n\",\n",
    "      \"Recall Score on Trained Data :\", recall_score(y_train, y_pred_train))"
   ]
  },
  {
   "cell_type": "code",
   "execution_count": 76,
   "id": "10a7b7f7",
   "metadata": {},
   "outputs": [
    {
     "name": "stdout",
     "output_type": "stream",
     "text": [
      "Accuracy Score on Test Data : 0.8016616314199396 \n",
      " F1_Score Score on Test Data : 0.7618356611645202 \n",
      " Precision Score on Test Data : 0.9554140127388535 \n",
      " Recall Score on Test Data : 0.6334841628959276\n"
     ]
    }
   ],
   "source": [
    "# predict the values for test set using the trained model\n",
    "y_pred_test = clf.predict(X_test)\n",
    "\n",
    "# calculate the accuracy score\n",
    "print(\"Accuracy Score on Test Data :\", accuracy_score(y_test, y_pred_test),\"\\n\",\n",
    "      \"F1_Score Score on Test Data :\", f1_score(y_test, y_pred_test),\"\\n\",\n",
    "     \"Precision Score on Test Data :\", precision_score(y_test, y_pred_test), \"\\n\",\n",
    "     \"Recall Score on Test Data :\", recall_score(y_test, y_pred_test))"
   ]
  },
  {
   "cell_type": "markdown",
   "id": "4eb6965c",
   "metadata": {},
   "source": [
    "##### Step 6.3: Model Bulding \"KNN\" with undersampling of majority-data"
   ]
  },
  {
   "cell_type": "code",
   "execution_count": 77,
   "id": "b1a125f0",
   "metadata": {},
   "outputs": [
    {
     "name": "stdout",
     "output_type": "stream",
     "text": [
      "[1 1 0 ... 0 0 0]\n",
      "0.8058912386706949\n",
      "[[3122  150]\n",
      " [1135 2213]]\n"
     ]
    }
   ],
   "source": [
    "learn_data, test_data, learn_labels, test_labels = train_test_split(X, y, test_size = 0.25)\n",
    "from sklearn.neighbors import KNeighborsClassifier\n",
    "knn = KNeighborsClassifier(n_neighbors=1000)\n",
    "  \n",
    "knn_dt=knn.fit(learn_data, learn_labels)\n",
    "  \n",
    "# Predict on dataset which model has not seen before\n",
    "yp=knn.predict(test_data)\n",
    "print(knn.predict(test_data))\n",
    "print(knn.score(test_data, test_labels))\n",
    "from sklearn.metrics import confusion_matrix\n",
    "cm=confusion_matrix(test_labels,yp)\n",
    "print(cm)"
   ]
  },
  {
   "cell_type": "code",
   "execution_count": 78,
   "id": "bd134d4d",
   "metadata": {},
   "outputs": [
    {
     "data": {
      "text/plain": [
       "array([0.777153  , 0.76354973, 0.76851039, 0.76868953, 0.78217532])"
      ]
     },
     "execution_count": 78,
     "metadata": {},
     "output_type": "execute_result"
    }
   ],
   "source": [
    "cross_score_knn = cross_val_score(knn_dt,learn_data,learn_labels,cv=5,scoring='f1')\n",
    "cross_score_knn"
   ]
  },
  {
   "cell_type": "code",
   "execution_count": 79,
   "id": "1eafcc71",
   "metadata": {},
   "outputs": [
    {
     "name": "stdout",
     "output_type": "stream",
     "text": [
      "The F1 score of knn is in Train-Data:  0.7720155948157637\n"
     ]
    }
   ],
   "source": [
    "avg_f1_score_knn = np.mean(cross_score_knn)\n",
    "print(\"The F1 score of knn is in Train-Data: \",avg_f1_score_knn)"
   ]
  },
  {
   "cell_type": "code",
   "execution_count": 80,
   "id": "386e6373",
   "metadata": {},
   "outputs": [
    {
     "data": {
      "text/plain": [
       "array([0.77777778, 0.76843911, 0.78798283, 0.77391304, 0.76114082])"
      ]
     },
     "execution_count": 80,
     "metadata": {},
     "output_type": "execute_result"
    }
   ],
   "source": [
    "cross_score_knn = cross_val_score(knn_dt,test_data,test_labels,cv=5,scoring='f1')\n",
    "cross_score_knn"
   ]
  },
  {
   "cell_type": "code",
   "execution_count": 81,
   "id": "c4e9d28f",
   "metadata": {},
   "outputs": [
    {
     "name": "stdout",
     "output_type": "stream",
     "text": [
      "The F1 score of knn is in Test-Data:  0.7738507163800327\n"
     ]
    }
   ],
   "source": [
    "avg_f1_score_knn = np.mean(cross_score_knn)\n",
    "print(\"The F1 score of knn is in Test-Data: \",avg_f1_score_knn)"
   ]
  },
  {
   "cell_type": "markdown",
   "id": "a24e371c",
   "metadata": {},
   "source": [
    "##### Step 6.4: Model Bulding \"Random Forest\" with undersampling of majority-data"
   ]
  },
  {
   "cell_type": "code",
   "execution_count": 82,
   "id": "69986964",
   "metadata": {},
   "outputs": [],
   "source": [
    "scaler = MinMaxScaler()\n",
    "X_train = scaler.fit_transform(X)"
   ]
  },
  {
   "cell_type": "code",
   "execution_count": 83,
   "id": "516f45ea",
   "metadata": {},
   "outputs": [],
   "source": [
    "#initial instance of the model\n",
    "ft=RandomForestClassifier()\n",
    "\n",
    "#Hyper parameters tuning to find the key parameters\n",
    "params = {'n_estimators':list(range(1,100))}\n",
    "rs_ft = RandomizedSearchCV(estimator=ft,param_distributions=params,cv=5, scoring='f1', return_train_score=True)\n",
    "rs_ft.fit(X,y)\n",
    "X_rscv_results = pd.DataFrame(rs_ft.cv_results_)"
   ]
  },
  {
   "cell_type": "code",
   "execution_count": 84,
   "id": "c360a921",
   "metadata": {},
   "outputs": [
    {
     "data": {
      "image/png": "[encoded data removed]",
      "text/plain": [
       "<Figure size 432x288 with 1 Axes>"
      ]
     },
     "metadata": {
      "needs_background": "light"
     },
     "output_type": "display_data"
    }
   ],
   "source": [
    "X_rscv_results = X_rscv_results.sort_values(by = 'param_n_estimators' )\n",
    "plt.plot(X_rscv_results.param_n_estimators,X_rscv_results.mean_train_score,label='Train Score')\n",
    "plt.plot(X_rscv_results.param_n_estimators,X_rscv_results.mean_test_score, label='Test Score')\n",
    "plt.legend()\n",
    "plt.ylim(0,1.1)\n",
    "plt.show()"
   ]
  },
  {
   "cell_type": "code",
   "execution_count": 85,
   "id": "d858550f",
   "metadata": {},
   "outputs": [],
   "source": [
    "# from the above we can see that 10 estimators is optimum\n",
    "params = {'n_estimators':list(range(1,10))}\n",
    "ft = RandomForestClassifier()\n",
    "gs_ft = GridSearchCV(estimator=ft,param_grid=params,cv=5, scoring='f1',return_train_score=True)\n",
    "gs_ft.fit(X,y)\n",
    "X_cv_results = pd.DataFrame(gs_ft.cv_results_)"
   ]
  },
  {
   "cell_type": "code",
   "execution_count": 86,
   "id": "d40418a3",
   "metadata": {},
   "outputs": [
    {
     "data": {
      "image/png": "[encoded data removed]",
      "text/plain": [
       "<Figure size 432x288 with 1 Axes>"
      ]
     },
     "metadata": {
      "needs_background": "light"
     },
     "output_type": "display_data"
    }
   ],
   "source": [
    "X_cv_results = X_cv_results.sort_values(by = 'param_n_estimators' )\n",
    "plt.plot(X_cv_results.param_n_estimators,X_cv_results.mean_train_score,label='Train Score')\n",
    "plt.plot(X_cv_results.param_n_estimators,X_cv_results.mean_test_score, label='Test Score')\n",
    "plt.legend()\n",
    "plt.ylim(0,1.1)\n",
    "plt.show()"
   ]
  },
  {
   "cell_type": "code",
   "execution_count": 87,
   "id": "4d0d7eac",
   "metadata": {},
   "outputs": [
    {
     "data": {
      "text/html": [
       "<div>\n",
       "<style scoped>\n",
       "    .dataframe tbody tr th:only-of-type {\n",
       "        vertical-align: middle;\n",
       "    }\n",
       "\n",
       "    .dataframe tbody tr th {\n",
       "        vertical-align: top;\n",
       "    }\n",
       "\n",
       "    .dataframe thead th {\n",
       "        text-align: right;\n",
       "    }\n",
       "</style>\n",
       "<table border=\"1\" class=\"dataframe\">\n",
       "  <thead>\n",
       "    <tr style=\"text-align: right;\">\n",
       "      <th></th>\n",
       "      <th>param_n_estimators</th>\n",
       "      <th>mean_test_score</th>\n",
       "    </tr>\n",
       "  </thead>\n",
       "  <tbody>\n",
       "    <tr>\n",
       "      <th>3</th>\n",
       "      <td>17</td>\n",
       "      <td>0.770790</td>\n",
       "    </tr>\n",
       "    <tr>\n",
       "      <th>0</th>\n",
       "      <td>26</td>\n",
       "      <td>0.770745</td>\n",
       "    </tr>\n",
       "    <tr>\n",
       "      <th>6</th>\n",
       "      <td>83</td>\n",
       "      <td>0.770740</td>\n",
       "    </tr>\n",
       "    <tr>\n",
       "      <th>1</th>\n",
       "      <td>90</td>\n",
       "      <td>0.770659</td>\n",
       "    </tr>\n",
       "    <tr>\n",
       "      <th>2</th>\n",
       "      <td>33</td>\n",
       "      <td>0.770621</td>\n",
       "    </tr>\n",
       "  </tbody>\n",
       "</table>\n",
       "</div>"
      ],
      "text/plain": [
       "  param_n_estimators  mean_test_score\n",
       "3                 17         0.770790\n",
       "0                 26         0.770745\n",
       "6                 83         0.770740\n",
       "1                 90         0.770659\n",
       "2                 33         0.770621"
      ]
     },
     "execution_count": 87,
     "metadata": {},
     "output_type": "execute_result"
    }
   ],
   "source": [
    "X_rscv_results.sort_values(by='mean_test_score', ascending=False)[['param_n_estimators','mean_test_score']].head()"
   ]
  },
  {
   "cell_type": "code",
   "execution_count": 88,
   "id": "51e55e9c",
   "metadata": {},
   "outputs": [],
   "source": [
    "import tensorflow as tf\n",
    "from tensorflow import keras\n",
    "from tensorflow.keras import layers"
   ]
  },
  {
   "cell_type": "code",
   "execution_count": 89,
   "id": "49dc4c57",
   "metadata": {},
   "outputs": [],
   "source": [
    "# Split data\n",
    "train_data, test_data, train_labels, test_labels = train_test_split(\n",
    "    df_undersampled.drop('class', axis=1), df_undersampled['class'], test_size=0.25)"
   ]
  },
  {
   "cell_type": "code",
   "execution_count": 90,
   "id": "e91fc705",
   "metadata": {},
   "outputs": [
    {
     "name": "stdout",
     "output_type": "stream",
     "text": [
      "Epoch 1/10\n",
      "621/621 [==============================] - 1s 1ms/step - loss: 0.4408 - accuracy: 0.7952\n",
      "Epoch 2/10\n",
      "621/621 [==============================] - 1s 1ms/step - loss: 0.4163 - accuracy: 0.8064\n",
      "Epoch 3/10\n",
      "621/621 [==============================] - 1s 1ms/step - loss: 0.4130 - accuracy: 0.8081\n",
      "Epoch 4/10\n",
      "621/621 [==============================] - 1s 1ms/step - loss: 0.4116 - accuracy: 0.8093\n",
      "Epoch 5/10\n",
      "621/621 [==============================] - 1s 1ms/step - loss: 0.4105 - accuracy: 0.8101\n",
      "Epoch 6/10\n",
      "621/621 [==============================] - 1s 1ms/step - loss: 0.4101 - accuracy: 0.8102\n",
      "Epoch 7/10\n",
      "621/621 [==============================] - 1s 1ms/step - loss: 0.4091 - accuracy: 0.8099\n",
      "Epoch 8/10\n",
      "621/621 [==============================] - 1s 2ms/step - loss: 0.4083 - accuracy: 0.8095\n",
      "Epoch 9/10\n",
      "621/621 [==============================] - 1s 1ms/step - loss: 0.4083 - accuracy: 0.8103\n",
      "Epoch 10/10\n",
      "621/621 [==============================] - 1s 1ms/step - loss: 0.4076 - accuracy: 0.8098\n"
     ]
    },
    {
     "data": {
      "text/plain": [
       "<keras.callbacks.History at 0x22ed4af5130>"
      ]
     },
     "execution_count": 90,
     "metadata": {},
     "output_type": "execute_result"
    }
   ],
   "source": [
    "# Design and train neural network\n",
    "model = keras.Sequential([\n",
    "    layers.Dense(64, activation='relu', input_shape=(train_data.shape[1],)),\n",
    "    layers.Dense(64, activation='relu'),\n",
    "    layers.Dense(1, activation='sigmoid')\n",
    "])\n",
    "model.compile(optimizer='adam', loss='binary_crossentropy', metrics=[['accuracy']])\n",
    "model.fit(train_data, train_labels, epochs=10, batch_size=32)"
   ]
  },
  {
   "cell_type": "code",
   "execution_count": 91,
   "id": "63932b63",
   "metadata": {},
   "outputs": [
    {
     "name": "stdout",
     "output_type": "stream",
     "text": [
      "207/207 [==============================] - 0s 959us/step - loss: 0.4135 - accuracy: 0.8095\n"
     ]
    }
   ],
   "source": [
    "# Evaluate model\n",
    "loss, accuracy = model.evaluate(test_data, test_labels)"
   ]
  },
  {
   "cell_type": "code",
   "execution_count": 92,
   "id": "474eb23f",
   "metadata": {},
   "outputs": [
    {
     "name": "stdout",
     "output_type": "stream",
     "text": [
      "207/207 [==============================] - 0s 1ms/step\n"
     ]
    }
   ],
   "source": [
    "# Test model\n",
    "predictions = model.predict(test_data)"
   ]
  },
  {
   "cell_type": "code",
   "execution_count": 93,
   "id": "589be546",
   "metadata": {},
   "outputs": [
    {
     "data": {
      "text/plain": [
       "array([[0.17942318],\n",
       "       [0.2609318 ],\n",
       "       [0.9981986 ],\n",
       "       ...,\n",
       "       [0.99929106],\n",
       "       [0.23555686],\n",
       "       [0.9993713 ]], dtype=float32)"
      ]
     },
     "execution_count": 93,
     "metadata": {},
     "output_type": "execute_result"
    }
   ],
   "source": [
    "predictions"
   ]
  },
  {
   "cell_type": "markdown",
   "id": "72e3c831",
   "metadata": {},
   "source": [
    "## Customer Segmentation"
   ]
  },
  {
   "cell_type": "code",
   "execution_count": 94,
   "id": "c97f6f93",
   "metadata": {},
   "outputs": [
    {
     "data": {
      "text/html": [
       "<div>\n",
       "<style scoped>\n",
       "    .dataframe tbody tr th:only-of-type {\n",
       "        vertical-align: middle;\n",
       "    }\n",
       "\n",
       "    .dataframe tbody tr th {\n",
       "        vertical-align: top;\n",
       "    }\n",
       "\n",
       "    .dataframe thead th {\n",
       "        text-align: right;\n",
       "    }\n",
       "</style>\n",
       "<table border=\"1\" class=\"dataframe\">\n",
       "  <thead>\n",
       "    <tr style=\"text-align: right;\">\n",
       "      <th></th>\n",
       "      <th>purchase_value</th>\n",
       "      <th>singup_purchase_time_difference_dummy</th>\n",
       "      <th>singup_purchase_date_difference_dummy</th>\n",
       "      <th>source_Direct</th>\n",
       "      <th>source_SEO</th>\n",
       "      <th>browser_FireFox</th>\n",
       "      <th>browser_IE</th>\n",
       "      <th>browser_Opera</th>\n",
       "      <th>browser_Safari</th>\n",
       "      <th>sex_M</th>\n",
       "      <th>category_cosmetics</th>\n",
       "      <th>category_electronics</th>\n",
       "      <th>category_health_care</th>\n",
       "      <th>category_home_essentials</th>\n",
       "      <th>age_category_Below 30</th>\n",
       "      <th>age_category_Between 31 &amp; 35</th>\n",
       "      <th>age_category_Between 36 &amp; 40</th>\n",
       "      <th>age_category_Between 41 &amp; 50</th>\n",
       "      <th>age_category_Above 50</th>\n",
       "    </tr>\n",
       "  </thead>\n",
       "  <tbody>\n",
       "    <tr>\n",
       "      <th>0</th>\n",
       "      <td>0.517819</td>\n",
       "      <td>0</td>\n",
       "      <td>0</td>\n",
       "      <td>0</td>\n",
       "      <td>1</td>\n",
       "      <td>0</td>\n",
       "      <td>0</td>\n",
       "      <td>0</td>\n",
       "      <td>0</td>\n",
       "      <td>1</td>\n",
       "      <td>0</td>\n",
       "      <td>0</td>\n",
       "      <td>0</td>\n",
       "      <td>1</td>\n",
       "      <td>0</td>\n",
       "      <td>0</td>\n",
       "      <td>0</td>\n",
       "      <td>1</td>\n",
       "      <td>0</td>\n",
       "    </tr>\n",
       "    <tr>\n",
       "      <th>1</th>\n",
       "      <td>1.608423</td>\n",
       "      <td>0</td>\n",
       "      <td>0</td>\n",
       "      <td>0</td>\n",
       "      <td>0</td>\n",
       "      <td>0</td>\n",
       "      <td>0</td>\n",
       "      <td>0</td>\n",
       "      <td>0</td>\n",
       "      <td>0</td>\n",
       "      <td>0</td>\n",
       "      <td>0</td>\n",
       "      <td>0</td>\n",
       "      <td>0</td>\n",
       "      <td>0</td>\n",
       "      <td>0</td>\n",
       "      <td>0</td>\n",
       "      <td>0</td>\n",
       "      <td>1</td>\n",
       "    </tr>\n",
       "  </tbody>\n",
       "</table>\n",
       "</div>"
      ],
      "text/plain": [
       "   purchase_value  singup_purchase_time_difference_dummy  \\\n",
       "0        0.517819                                      0   \n",
       "1        1.608423                                      0   \n",
       "\n",
       "   singup_purchase_date_difference_dummy  source_Direct  source_SEO  \\\n",
       "0                                      0              0           1   \n",
       "1                                      0              0           0   \n",
       "\n",
       "   browser_FireFox  browser_IE  browser_Opera  browser_Safari  sex_M  \\\n",
       "0                0           0              0               0      1   \n",
       "1                0           0              0               0      0   \n",
       "\n",
       "   category_cosmetics  category_electronics  category_health_care  \\\n",
       "0                   0                     0                     0   \n",
       "1                   0                     0                     0   \n",
       "\n",
       "   category_home_essentials  age_category_Below 30  \\\n",
       "0                         1                      0   \n",
       "1                         0                      0   \n",
       "\n",
       "   age_category_Between 31 & 35  age_category_Between 36 & 40  \\\n",
       "0                             0                             0   \n",
       "1                             0                             0   \n",
       "\n",
       "   age_category_Between 41 & 50  age_category_Above 50  \n",
       "0                             1                      0  \n",
       "1                             0                      1  "
      ]
     },
     "execution_count": 94,
     "metadata": {},
     "output_type": "execute_result"
    }
   ],
   "source": [
    "cust_segment = pd_data_dum_drop[['purchase_value', 'singup_purchase_time_difference_dummy', \n",
    "                                        'singup_purchase_date_difference_dummy', \n",
    "                                        'source_Direct', 'source_SEO','browser_FireFox', 'browser_IE',\n",
    "                                        'browser_Opera', 'browser_Safari', 'sex_M', 'category_cosmetics', \n",
    "                                        'category_electronics', 'category_health_care','category_home_essentials', \n",
    "                                        'age_category_Below 30','age_category_Between 31 & 35', \n",
    "                                        'age_category_Between 36 & 40', 'age_category_Between 41 & 50',\n",
    "                                        'age_category_Above 50']]\n",
    "cust_segment.head(2)"
   ]
  },
  {
   "cell_type": "code",
   "execution_count": 95,
   "id": "50b2c8a8",
   "metadata": {},
   "outputs": [
    {
     "data": {
      "image/png": "[encoded data removed]",
      "text/plain": [
       "<Figure size 864x432 with 1 Axes>"
      ]
     },
     "metadata": {
      "needs_background": "light"
     },
     "output_type": "display_data"
    }
   ],
   "source": [
    "from sklearn.cluster import KMeans\n",
    "wcss = []\n",
    "for k in range(1,11):\n",
    "    kmeans = KMeans(n_clusters=k, init=\"k-means++\")\n",
    "    kmeans.fit(cust_segment.iloc[:,:])\n",
    "    wcss.append(kmeans.inertia_)\n",
    "plt.figure(figsize=(12,6))    \n",
    "plt.grid()\n",
    "plt.plot(range(1,11),wcss, linewidth=2, color=\"red\", marker =\"8\")\n",
    "plt.xlabel(\"K Value\")\n",
    "plt.xticks(np.arange(1,11,1))\n",
    "plt.ylabel(\"WCSS\")\n",
    "plt.show()"
   ]
  },
  {
   "cell_type": "code",
   "execution_count": 101,
   "id": "0d6a88f3",
   "metadata": {},
   "outputs": [
    {
     "data": {
      "text/plain": [
       "KMeans(algorithm='auto', copy_x=True, init='k-means++', max_iter=300,\n",
       "       n_clusters=3, n_init=10, n_jobs=None, precompute_distances='auto',\n",
       "       random_state=42, tol=0.0001, verbose=0)"
      ]
     },
     "execution_count": 101,
     "metadata": {},
     "output_type": "execute_result"
    }
   ],
   "source": [
    "# Fit KMeans model\n",
    "kmeans = KMeans(n_clusters=3, random_state=42)\n",
    "kmeans.fit(cust_segment)"
   ]
  },
  {
   "cell_type": "code",
   "execution_count": 102,
   "id": "e0f004cf",
   "metadata": {},
   "outputs": [],
   "source": [
    "# Get predicted cluster labels\n",
    "labels = kmeans.predict(cust_segment)"
   ]
  },
  {
   "cell_type": "code",
   "execution_count": 103,
   "id": "8e487fa8",
   "metadata": {},
   "outputs": [],
   "source": [
    "# Add predicted labels to DataFrame\n",
    "cust_segment['Cluster'] = labels"
   ]
  },
  {
   "cell_type": "code",
   "execution_count": 104,
   "id": "99eb9970",
   "metadata": {},
   "outputs": [
    {
     "name": "stdout",
     "output_type": "stream",
     "text": [
      "1    63873\n",
      "2    49056\n",
      "0    28475\n",
      "Name: Cluster, dtype: int64\n"
     ]
    }
   ],
   "source": [
    "# View cluster assignments\n",
    "print(cust_segment['Cluster'].value_counts())"
   ]
  }
 ],
 "metadata": {
  "kernelspec": {
   "display_name": "Python 3",
   "language": "python",
   "name": "python3"
  },
  "language_info": {
   "codemirror_mode": {
    "name": "ipython",
    "version": 3
   },
   "file_extension": ".py",
   "mimetype": "text/x-python",
   "name": "python",
   "nbconvert_exporter": "python",
   "pygments_lexer": "ipython3",
   "version": "3.8.8"
  }
 },
 "nbformat": 4,
 "nbformat_minor": 5
}
